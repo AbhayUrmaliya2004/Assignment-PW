{
 "cells": [
  {
   "cell_type": "code",
   "execution_count": 7,
   "id": "d240e5c4-d79b-4c0b-8a6d-1651a6d3171e",
   "metadata": {},
   "outputs": [],
   "source": [
    "### Que(1) :\n",
    "# using '#', single line comments can be declared \n",
    "\"\"\" But if user want to make multi line commennts then either\n",
    "    single or double quotes can be used after sentence \"\"\"\n",
    "a = ''' --> That can also be stored in a variable '''\n"
   ]
  },
  {
   "cell_type": "code",
   "execution_count": 8,
   "id": "bfaba540-68a5-44eb-8f44-9c6c075f9e0d",
   "metadata": {},
   "outputs": [
    {
     "data": {
      "text/plain": [
       "' --> That can also be stored in a variable '"
      ]
     },
     "execution_count": 8,
     "metadata": {},
     "output_type": "execute_result"
    }
   ],
   "source": [
    "a ''' also can be stored in a variable as in previous cell,\n",
    " and this line is also comment'''"
   ]
  },
  {
   "cell_type": "code",
   "execution_count": 9,
   "id": "038f41c5-44f4-4dff-9bab-187162bbadc8",
   "metadata": {},
   "outputs": [
    {
     "data": {
      "text/plain": [
       "str"
      ]
     },
     "execution_count": 9,
     "metadata": {},
     "output_type": "execute_result"
    }
   ],
   "source": [
    "type(a) ''' type is string '''"
   ]
  },
  {
   "cell_type": "code",
   "execution_count": 11,
   "id": "9a5c50b6-5d31-4a46-a4ca-a46a4739ea02",
   "metadata": {},
   "outputs": [],
   "source": [
    "# Que(2) :\n",
    "b = ''' Variables are like containers in which data can be stored like integer,flaot \n",
    "   string, these are basically the memory blocks '''"
   ]
  },
  {
   "cell_type": "code",
   "execution_count": 12,
   "id": "1c8e83eb-dccf-4092-975d-21433d1dcd19",
   "metadata": {},
   "outputs": [
    {
     "data": {
      "text/plain": [
       "5"
      ]
     },
     "execution_count": 12,
     "metadata": {},
     "output_type": "execute_result"
    }
   ],
   "source": [
    "# In python, user need not to specify data type of any variable \n",
    "# directly value can be assigned to variable ex : \n",
    "a = 5\n",
    "# where a have value 5 and data type is self understood by compiler \n",
    "a"
   ]
  },
  {
   "cell_type": "code",
   "execution_count": 13,
   "id": "79fb94b7-cfc1-429d-b326-f5d9ee3187f1",
   "metadata": {},
   "outputs": [
    {
     "data": {
      "text/plain": [
       "int"
      ]
     },
     "execution_count": 13,
     "metadata": {},
     "output_type": "execute_result"
    }
   ],
   "source": [
    "type(a)"
   ]
  },
  {
   "cell_type": "code",
   "execution_count": 14,
   "id": "e51c7560-def5-43df-9fca-2ff6590edeed",
   "metadata": {},
   "outputs": [
    {
     "name": "stdin",
     "output_type": "stream",
     "text": [
      "Enter Anything Hi, I am Abhay\n"
     ]
    },
    {
     "data": {
      "text/plain": [
       "'Hi, I am Abhay'"
      ]
     },
     "execution_count": 14,
     "metadata": {},
     "output_type": "execute_result"
    }
   ],
   "source": [
    "# Even inputs can be taken from user to assign value to a variable,ex : \n",
    "a = input(\"Enter Anything\")\n",
    "# In Python, Input is taken always in the form of String\n",
    "a"
   ]
  },
  {
   "cell_type": "code",
   "execution_count": 15,
   "id": "6faa359d-2a79-4875-b26e-bbc4a91e8e5a",
   "metadata": {},
   "outputs": [
    {
     "data": {
      "text/plain": [
       "str"
      ]
     },
     "execution_count": 15,
     "metadata": {},
     "output_type": "execute_result"
    }
   ],
   "source": [
    "type(a)"
   ]
  },
  {
   "cell_type": "code",
   "execution_count": 19,
   "id": "0ebf3e3b-9777-4bdb-9d44-bd9b5778a214",
   "metadata": {},
   "outputs": [
    {
     "data": {
      "text/plain": [
       "int"
      ]
     },
     "execution_count": 19,
     "metadata": {},
     "output_type": "execute_result"
    }
   ],
   "source": [
    "# Que(3) : \n",
    "# To convert one data to another 'TYPECASTING' can be done and \n",
    "# data types can be changed \n",
    "a = 5 \n",
    "# here data type is int\n",
    "type(a)"
   ]
  },
  {
   "cell_type": "code",
   "execution_count": 22,
   "id": "09d1d49e-b5c8-4cba-88b4-7416fb9afc69",
   "metadata": {},
   "outputs": [
    {
     "data": {
      "text/plain": [
       "str"
      ]
     },
     "execution_count": 22,
     "metadata": {},
     "output_type": "execute_result"
    }
   ],
   "source": [
    "# to convert it to string, ex :\n",
    "type(str(a))"
   ]
  },
  {
   "cell_type": "code",
   "execution_count": 26,
   "id": "892b8494-f024-47c5-b385-ca63a0c9039c",
   "metadata": {},
   "outputs": [],
   "source": [
    "a = str(a)"
   ]
  },
  {
   "cell_type": "code",
   "execution_count": 27,
   "id": "b43c8b97-6f49-42e6-818b-3cd56295bc6d",
   "metadata": {},
   "outputs": [
    {
     "data": {
      "text/plain": [
       "'5'"
      ]
     },
     "execution_count": 27,
     "metadata": {},
     "output_type": "execute_result"
    }
   ],
   "source": [
    "a"
   ]
  },
  {
   "cell_type": "code",
   "execution_count": 28,
   "id": "cada808f-a79a-41af-a552-b89cadca7510",
   "metadata": {},
   "outputs": [
    {
     "data": {
      "text/plain": [
       "int"
      ]
     },
     "execution_count": 28,
     "metadata": {},
     "output_type": "execute_result"
    }
   ],
   "source": [
    "# Also Internal typecasting can be done \n",
    "# like 5 is int and 3 is int \n",
    "type(5)"
   ]
  },
  {
   "cell_type": "code",
   "execution_count": 29,
   "id": "bf6d756c-7c07-4379-8186-2527d5f5ccd1",
   "metadata": {},
   "outputs": [
    {
     "data": {
      "text/plain": [
       "int"
      ]
     },
     "execution_count": 29,
     "metadata": {},
     "output_type": "execute_result"
    }
   ],
   "source": [
    "type(3)"
   ]
  },
  {
   "cell_type": "code",
   "execution_count": 30,
   "id": "abc89215-fd82-44e2-a810-f622f8cc13f3",
   "metadata": {},
   "outputs": [
    {
     "data": {
      "text/plain": [
       "float"
      ]
     },
     "execution_count": 30,
     "metadata": {},
     "output_type": "execute_result"
    }
   ],
   "source": [
    "# but (5/3) will not be an integer value \n",
    "type(5/3)"
   ]
  },
  {
   "cell_type": "code",
   "execution_count": 31,
   "id": "4ab527af-bf09-421b-92ef-e46d058ad428",
   "metadata": {},
   "outputs": [
    {
     "data": {
      "text/plain": [
       "float"
      ]
     },
     "execution_count": 31,
     "metadata": {},
     "output_type": "execute_result"
    }
   ],
   "source": [
    "type(10/2)"
   ]
  },
  {
   "cell_type": "code",
   "execution_count": 34,
   "id": "fe093f9c-a3d3-40f6-bbbd-0ac12adef0b0",
   "metadata": {},
   "outputs": [
    {
     "data": {
      "text/plain": [
       "float"
      ]
     },
     "execution_count": 34,
     "metadata": {},
     "output_type": "execute_result"
    }
   ],
   "source": [
    "type(5*2.0)"
   ]
  },
  {
   "cell_type": "code",
   "execution_count": 35,
   "id": "69cfdebc-730c-4f86-98fe-7cd593fa0fa2",
   "metadata": {},
   "outputs": [
    {
     "data": {
      "text/plain": [
       "int"
      ]
     },
     "execution_count": 35,
     "metadata": {},
     "output_type": "execute_result"
    }
   ],
   "source": [
    "type(5*2)"
   ]
  },
  {
   "cell_type": "code",
   "execution_count": 37,
   "id": "48442390-ccee-4b00-87ab-cf2739848dc4",
   "metadata": {},
   "outputs": [
    {
     "data": {
      "text/plain": [
       "[2, 3]"
      ]
     },
     "execution_count": 37,
     "metadata": {},
     "output_type": "execute_result"
    }
   ],
   "source": [
    "# Que(5) :\n",
    "# This is how slicing can be done\n",
    "my_list = [1,2,3,4,5]\n",
    "my_list[1 : 3]"
   ]
  },
  {
   "cell_type": "code",
   "execution_count": 81,
   "id": "002c6b30-3271-4cbd-8e9d-aabc105d920d",
   "metadata": {},
   "outputs": [],
   "source": [
    "l1 = []\n",
    "for i in range (1,3):\n",
    "    l1.append(my_list[i])"
   ]
  },
  {
   "cell_type": "code",
   "execution_count": 82,
   "id": "da833af4-5478-4ecf-9b44-eac016250160",
   "metadata": {},
   "outputs": [
    {
     "data": {
      "text/plain": [
       "[2, 3]"
      ]
     },
     "execution_count": 82,
     "metadata": {},
     "output_type": "execute_result"
    }
   ],
   "source": [
    "# Above slicing was done and here slicing is done and values are  added\n",
    "# to another list as well\n",
    "l1"
   ]
  },
  {
   "cell_type": "code",
   "execution_count": null,
   "id": "d9ad4e94-3f4f-4b61-94ff-9daaeb42f04b",
   "metadata": {},
   "outputs": [],
   "source": [
    "# Que(6) : \n",
    "## Complex number in mathematics is basically a combination of real and \n",
    "#  imaginary value \n",
    "# It is represented in Mathematics as 'a+ib' where 'a' and 'b' are real \n",
    "# 'i' represents the imaginary part \n",
    "\n",
    "# --> In python,it is represented by 'j' instead of 'i'(iota) in Math"
   ]
  },
  {
   "cell_type": "code",
   "execution_count": 58,
   "id": "3ba25722-a0a4-4778-9fec-524ec621742f",
   "metadata": {},
   "outputs": [
    {
     "data": {
      "text/plain": [
       "(5+6j)"
      ]
     },
     "execution_count": 58,
     "metadata": {},
     "output_type": "execute_result"
    }
   ],
   "source": [
    "a = 5+6j\n",
    "a"
   ]
  },
  {
   "cell_type": "code",
   "execution_count": 59,
   "id": "17a5cba4-6c45-4390-91dc-27b5eef49179",
   "metadata": {},
   "outputs": [
    {
     "data": {
      "text/plain": [
       "complex"
      ]
     },
     "execution_count": 59,
     "metadata": {},
     "output_type": "execute_result"
    }
   ],
   "source": [
    "type(a)"
   ]
  },
  {
   "cell_type": "code",
   "execution_count": 60,
   "id": "8267745a-d208-4219-ba35-8f2ce27e2c6f",
   "metadata": {},
   "outputs": [
    {
     "data": {
      "text/plain": [
       "5.0"
      ]
     },
     "execution_count": 60,
     "metadata": {},
     "output_type": "execute_result"
    }
   ],
   "source": [
    "a.real"
   ]
  },
  {
   "cell_type": "code",
   "execution_count": 61,
   "id": "4870750b-cd94-4f71-b5bd-59d4cdffb402",
   "metadata": {},
   "outputs": [
    {
     "data": {
      "text/plain": [
       "6.0"
      ]
     },
     "execution_count": 61,
     "metadata": {},
     "output_type": "execute_result"
    }
   ],
   "source": [
    "a.imag\n",
    "# return type is always float "
   ]
  },
  {
   "cell_type": "code",
   "execution_count": 62,
   "id": "300d69b5-92d2-495e-8c51-3b6ac1ada6f8",
   "metadata": {},
   "outputs": [
    {
     "data": {
      "text/plain": [
       "25"
      ]
     },
     "execution_count": 62,
     "metadata": {},
     "output_type": "execute_result"
    }
   ],
   "source": [
    "# Que(7) : \n",
    "# variable named 'age' and value : 25 is assogned to it \n",
    "age = 25\n",
    "age"
   ]
  },
  {
   "cell_type": "code",
   "execution_count": 63,
   "id": "9ef9489e-25be-4b24-9eb5-5f4f5dc13d69",
   "metadata": {},
   "outputs": [
    {
     "data": {
      "text/plain": [
       "float"
      ]
     },
     "execution_count": 63,
     "metadata": {},
     "output_type": "execute_result"
    }
   ],
   "source": [
    "# Que(8) :\n",
    "price = 9.99 \n",
    "# Data Type of price is float \n",
    "type(price)"
   ]
  },
  {
   "cell_type": "code",
   "execution_count": 66,
   "id": "b757bcf1-c554-46ae-b6e1-1a709e6cc670",
   "metadata": {},
   "outputs": [
    {
     "data": {
      "text/plain": [
       "'Abhay Urmaliya'"
      ]
     },
     "execution_count": 66,
     "metadata": {},
     "output_type": "execute_result"
    }
   ],
   "source": [
    "# Que(9) : \n",
    "name = \"Abhay Urmaliya\"\n",
    "name"
   ]
  },
  {
   "cell_type": "code",
   "execution_count": 67,
   "id": "95d5dc60-db64-4032-bec0-51d94d1afda7",
   "metadata": {},
   "outputs": [
    {
     "data": {
      "text/plain": [
       "str"
      ]
     },
     "execution_count": 67,
     "metadata": {},
     "output_type": "execute_result"
    }
   ],
   "source": [
    "type(name)"
   ]
  },
  {
   "cell_type": "code",
   "execution_count": 71,
   "id": "25c71e81-47b2-45c8-b1ba-5afa12572d63",
   "metadata": {},
   "outputs": [
    {
     "data": {
      "text/plain": [
       "'World'"
      ]
     },
     "execution_count": 71,
     "metadata": {},
     "output_type": "execute_result"
    }
   ],
   "source": [
    "# Que(10) :\n",
    "My_String = \"Hello, World!\"\n",
    "# Slicing can also be done in string\n",
    "My_String[7:12]"
   ]
  },
  {
   "cell_type": "code",
   "execution_count": 73,
   "id": "ccda37d2-887a-4901-b565-3b0043328944",
   "metadata": {},
   "outputs": [
    {
     "data": {
      "text/plain": [
       "True"
      ]
     },
     "execution_count": 73,
     "metadata": {},
     "output_type": "execute_result"
    }
   ],
   "source": [
    "# Que(11) :\n",
    "is_Student = True \n",
    "is_Student"
   ]
  },
  {
   "cell_type": "code",
   "execution_count": 74,
   "id": "33205c28-4ee7-49c0-a968-fedcd575b3df",
   "metadata": {},
   "outputs": [
    {
     "data": {
      "text/plain": [
       "False"
      ]
     },
     "execution_count": 74,
     "metadata": {},
     "output_type": "execute_result"
    }
   ],
   "source": [
    "is_Student = False \n",
    "is_Student"
   ]
  },
  {
   "cell_type": "code",
   "execution_count": 75,
   "id": "94f09753-4a98-40c9-b77d-9e7570c7ff0e",
   "metadata": {},
   "outputs": [
    {
     "data": {
      "text/plain": [
       "bool"
      ]
     },
     "execution_count": 75,
     "metadata": {},
     "output_type": "execute_result"
    }
   ],
   "source": [
    "type(is_Student)"
   ]
  },
  {
   "cell_type": "code",
   "execution_count": null,
   "id": "037568b7-19b0-43d6-ab39-2b2cc7ca7c38",
   "metadata": {},
   "outputs": [],
   "source": [
    "# Que(4):\n",
    "#--> To write a Python script, use an ordinary plain text file\n",
    "#  and add Python instructions\n",
    "#--> create a Python file by typing “vim” along with the file\n",
    "# name in the Terminal"
   ]
  }
 ],
 "metadata": {
  "kernelspec": {
   "display_name": "Python 3 (ipykernel)",
   "language": "python",
   "name": "python3"
  },
  "language_info": {
   "codemirror_mode": {
    "name": "ipython",
    "version": 3
   },
   "file_extension": ".py",
   "mimetype": "text/x-python",
   "name": "python",
   "nbconvert_exporter": "python",
   "pygments_lexer": "ipython3",
   "version": "3.10.8"
  }
 },
 "nbformat": 4,
 "nbformat_minor": 5
}
