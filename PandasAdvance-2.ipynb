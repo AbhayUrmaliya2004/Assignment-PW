{
 "cells": [
  {
   "cell_type": "code",
   "execution_count": 1,
   "id": "a900b5b8-c6ef-4160-95db-e49b8ef10fd8",
   "metadata": {},
   "outputs": [],
   "source": [
    "import pandas as pd \n",
    "import numpy as np"
   ]
  },
  {
   "cell_type": "code",
   "execution_count": 2,
   "id": "864e3020-1ed3-49e1-b16b-55c5b8e1f889",
   "metadata": {},
   "outputs": [],
   "source": [
    "course_name = ['Data Science', 'Machine Learning', 'Big Data', 'Data Engineer']\n",
    "duration = [2,3,6,4]\n",
    "df = pd.DataFrame(data = {'course_name' : course_name, 'duration' : duration})"
   ]
  },
  {
   "cell_type": "code",
   "execution_count": 3,
   "id": "62206866-541e-4070-a024-eacf767475cc",
   "metadata": {},
   "outputs": [
    {
     "data": {
      "text/html": [
       "<div>\n",
       "<style scoped>\n",
       "    .dataframe tbody tr th:only-of-type {\n",
       "        vertical-align: middle;\n",
       "    }\n",
       "\n",
       "    .dataframe tbody tr th {\n",
       "        vertical-align: top;\n",
       "    }\n",
       "\n",
       "    .dataframe thead th {\n",
       "        text-align: right;\n",
       "    }\n",
       "</style>\n",
       "<table border=\"1\" class=\"dataframe\">\n",
       "  <thead>\n",
       "    <tr style=\"text-align: right;\">\n",
       "      <th></th>\n",
       "      <th>course_name</th>\n",
       "      <th>duration</th>\n",
       "    </tr>\n",
       "  </thead>\n",
       "  <tbody>\n",
       "    <tr>\n",
       "      <th>0</th>\n",
       "      <td>Data Science</td>\n",
       "      <td>2</td>\n",
       "    </tr>\n",
       "    <tr>\n",
       "      <th>1</th>\n",
       "      <td>Machine Learning</td>\n",
       "      <td>3</td>\n",
       "    </tr>\n",
       "    <tr>\n",
       "      <th>2</th>\n",
       "      <td>Big Data</td>\n",
       "      <td>6</td>\n",
       "    </tr>\n",
       "    <tr>\n",
       "      <th>3</th>\n",
       "      <td>Data Engineer</td>\n",
       "      <td>4</td>\n",
       "    </tr>\n",
       "  </tbody>\n",
       "</table>\n",
       "</div>"
      ],
      "text/plain": [
       "        course_name  duration\n",
       "0      Data Science         2\n",
       "1  Machine Learning         3\n",
       "2          Big Data         6\n",
       "3     Data Engineer         4"
      ]
     },
     "execution_count": 3,
     "metadata": {},
     "output_type": "execute_result"
    }
   ],
   "source": [
    "df"
   ]
  },
  {
   "cell_type": "markdown",
   "id": "2e052973-c4d8-4f84-8131-00b0353b2724",
   "metadata": {},
   "source": [
    "# Question No.-(1)"
   ]
  },
  {
   "cell_type": "markdown",
   "id": "d521422e-3538-4f52-96e2-e87e4e9ce0ed",
   "metadata": {},
   "source": [
    "considering zero indexed row "
   ]
  },
  {
   "cell_type": "code",
   "execution_count": 4,
   "id": "0ffa5a10-51dc-468e-ad8b-24eaef8d2716",
   "metadata": {},
   "outputs": [
    {
     "data": {
      "text/plain": [
       "course_name    Machine Learning\n",
       "duration                      3\n",
       "Name: 1, dtype: object"
      ]
     },
     "execution_count": 4,
     "metadata": {},
     "output_type": "execute_result"
    }
   ],
   "source": [
    " df.iloc[1] # this is the data present in the 2nd row "
   ]
  },
  {
   "cell_type": "markdown",
   "id": "79dda3dd-3166-4039-8279-1995f1cbd085",
   "metadata": {},
   "source": [
    "# Question No. - (2)"
   ]
  },
  {
   "cell_type": "markdown",
   "id": "5ce441f5-80f2-490d-af90-337ab2f3cd77",
   "metadata": {},
   "source": [
    "loc :- takes actual name of row and column to present data "
   ]
  },
  {
   "cell_type": "code",
   "execution_count": 5,
   "id": "f3c23d38-4b6a-4554-825e-2bb2bd1b8c69",
   "metadata": {},
   "outputs": [],
   "source": [
    "df2 = pd.DataFrame({'A': [1, 2, 3], 'B': [4, 5, 6]}, index=['row1', 'row2', 'row3'])"
   ]
  },
  {
   "cell_type": "markdown",
   "id": "a3e28395-83a3-4d70-83ab-ac6d8692127f",
   "metadata": {},
   "source": [
    "dataframe_name.[row_indexes, column_indexes], actual row and column name assigned"
   ]
  },
  {
   "cell_type": "code",
   "execution_count": 6,
   "id": "0956ddb0-c4b2-4e5f-a725-1a1c96ae4745",
   "metadata": {},
   "outputs": [
    {
     "data": {
      "text/html": [
       "<div>\n",
       "<style scoped>\n",
       "    .dataframe tbody tr th:only-of-type {\n",
       "        vertical-align: middle;\n",
       "    }\n",
       "\n",
       "    .dataframe tbody tr th {\n",
       "        vertical-align: top;\n",
       "    }\n",
       "\n",
       "    .dataframe thead th {\n",
       "        text-align: right;\n",
       "    }\n",
       "</style>\n",
       "<table border=\"1\" class=\"dataframe\">\n",
       "  <thead>\n",
       "    <tr style=\"text-align: right;\">\n",
       "      <th></th>\n",
       "      <th>A</th>\n",
       "      <th>B</th>\n",
       "    </tr>\n",
       "  </thead>\n",
       "  <tbody>\n",
       "    <tr>\n",
       "      <th>row1</th>\n",
       "      <td>1</td>\n",
       "      <td>4</td>\n",
       "    </tr>\n",
       "    <tr>\n",
       "      <th>row3</th>\n",
       "      <td>3</td>\n",
       "      <td>6</td>\n",
       "    </tr>\n",
       "  </tbody>\n",
       "</table>\n",
       "</div>"
      ],
      "text/plain": [
       "      A  B\n",
       "row1  1  4\n",
       "row3  3  6"
      ]
     },
     "execution_count": 6,
     "metadata": {},
     "output_type": "execute_result"
    }
   ],
   "source": [
    "df2.loc[['row1','row3'], ['A','B']]"
   ]
  },
  {
   "cell_type": "markdown",
   "id": "0691e492-8786-4225-b01a-056123b4e449",
   "metadata": {},
   "source": [
    "iloc :- takes the reset_index( basic 0 indexing) to present data "
   ]
  },
  {
   "cell_type": "markdown",
   "id": "943423c1-4880-4940-af2a-a77b7f7186d7",
   "metadata": {},
   "source": [
    "dataframe_name.[row_indexes, column_indexes], auto index by machine"
   ]
  },
  {
   "cell_type": "code",
   "execution_count": 7,
   "id": "cecd4415-a127-4e24-bc32-1db93fa07cd9",
   "metadata": {},
   "outputs": [
    {
     "data": {
      "text/html": [
       "<div>\n",
       "<style scoped>\n",
       "    .dataframe tbody tr th:only-of-type {\n",
       "        vertical-align: middle;\n",
       "    }\n",
       "\n",
       "    .dataframe tbody tr th {\n",
       "        vertical-align: top;\n",
       "    }\n",
       "\n",
       "    .dataframe thead th {\n",
       "        text-align: right;\n",
       "    }\n",
       "</style>\n",
       "<table border=\"1\" class=\"dataframe\">\n",
       "  <thead>\n",
       "    <tr style=\"text-align: right;\">\n",
       "      <th></th>\n",
       "      <th>A</th>\n",
       "      <th>B</th>\n",
       "    </tr>\n",
       "  </thead>\n",
       "  <tbody>\n",
       "    <tr>\n",
       "      <th>row1</th>\n",
       "      <td>1</td>\n",
       "      <td>4</td>\n",
       "    </tr>\n",
       "    <tr>\n",
       "      <th>row2</th>\n",
       "      <td>2</td>\n",
       "      <td>5</td>\n",
       "    </tr>\n",
       "    <tr>\n",
       "      <th>row3</th>\n",
       "      <td>3</td>\n",
       "      <td>6</td>\n",
       "    </tr>\n",
       "  </tbody>\n",
       "</table>\n",
       "</div>"
      ],
      "text/plain": [
       "      A  B\n",
       "row1  1  4\n",
       "row2  2  5\n",
       "row3  3  6"
      ]
     },
     "execution_count": 7,
     "metadata": {},
     "output_type": "execute_result"
    }
   ],
   "source": [
    "df2.iloc[[0,1,2], [0,1]]"
   ]
  },
  {
   "cell_type": "markdown",
   "id": "86886e8e-c062-48fc-ab20-a0ad3dc64588",
   "metadata": {},
   "source": [
    "# Question No.-(3)"
   ]
  },
  {
   "cell_type": "code",
   "execution_count": 8,
   "id": "0d68ad46-e6b9-44ea-a6c8-6c4cd7786fa9",
   "metadata": {},
   "outputs": [],
   "source": [
    "df3 = pd.DataFrame({'col_1': [1, 2, 3,5], 'col_2': [4, 5, 6, 7]})"
   ]
  },
  {
   "cell_type": "code",
   "execution_count": 9,
   "id": "d844e164-8263-40c5-a00b-13781ef43f07",
   "metadata": {},
   "outputs": [
    {
     "data": {
      "text/html": [
       "<div>\n",
       "<style scoped>\n",
       "    .dataframe tbody tr th:only-of-type {\n",
       "        vertical-align: middle;\n",
       "    }\n",
       "\n",
       "    .dataframe tbody tr th {\n",
       "        vertical-align: top;\n",
       "    }\n",
       "\n",
       "    .dataframe thead th {\n",
       "        text-align: right;\n",
       "    }\n",
       "</style>\n",
       "<table border=\"1\" class=\"dataframe\">\n",
       "  <thead>\n",
       "    <tr style=\"text-align: right;\">\n",
       "      <th></th>\n",
       "      <th>col_1</th>\n",
       "      <th>col_2</th>\n",
       "    </tr>\n",
       "  </thead>\n",
       "  <tbody>\n",
       "    <tr>\n",
       "      <th>0</th>\n",
       "      <td>1</td>\n",
       "      <td>4</td>\n",
       "    </tr>\n",
       "    <tr>\n",
       "      <th>1</th>\n",
       "      <td>2</td>\n",
       "      <td>5</td>\n",
       "    </tr>\n",
       "    <tr>\n",
       "      <th>2</th>\n",
       "      <td>3</td>\n",
       "      <td>6</td>\n",
       "    </tr>\n",
       "    <tr>\n",
       "      <th>3</th>\n",
       "      <td>5</td>\n",
       "      <td>7</td>\n",
       "    </tr>\n",
       "  </tbody>\n",
       "</table>\n",
       "</div>"
      ],
      "text/plain": [
       "   col_1  col_2\n",
       "0      1      4\n",
       "1      2      5\n",
       "2      3      6\n",
       "3      5      7"
      ]
     },
     "execution_count": 9,
     "metadata": {},
     "output_type": "execute_result"
    }
   ],
   "source": [
    "df3"
   ]
  },
  {
   "cell_type": "code",
   "execution_count": 10,
   "id": "411a4edf-23be-4235-a0ce-4416c8d58e31",
   "metadata": {},
   "outputs": [],
   "source": [
    "new_df = df3.reindex([3,0,1,2])"
   ]
  },
  {
   "cell_type": "code",
   "execution_count": 11,
   "id": "c4016d1b-a8e6-4428-8f42-62a9bee508e6",
   "metadata": {},
   "outputs": [
    {
     "data": {
      "text/html": [
       "<div>\n",
       "<style scoped>\n",
       "    .dataframe tbody tr th:only-of-type {\n",
       "        vertical-align: middle;\n",
       "    }\n",
       "\n",
       "    .dataframe tbody tr th {\n",
       "        vertical-align: top;\n",
       "    }\n",
       "\n",
       "    .dataframe thead th {\n",
       "        text-align: right;\n",
       "    }\n",
       "</style>\n",
       "<table border=\"1\" class=\"dataframe\">\n",
       "  <thead>\n",
       "    <tr style=\"text-align: right;\">\n",
       "      <th></th>\n",
       "      <th>col_1</th>\n",
       "      <th>col_2</th>\n",
       "    </tr>\n",
       "  </thead>\n",
       "  <tbody>\n",
       "    <tr>\n",
       "      <th>3</th>\n",
       "      <td>5</td>\n",
       "      <td>7</td>\n",
       "    </tr>\n",
       "    <tr>\n",
       "      <th>0</th>\n",
       "      <td>1</td>\n",
       "      <td>4</td>\n",
       "    </tr>\n",
       "    <tr>\n",
       "      <th>1</th>\n",
       "      <td>2</td>\n",
       "      <td>5</td>\n",
       "    </tr>\n",
       "    <tr>\n",
       "      <th>2</th>\n",
       "      <td>3</td>\n",
       "      <td>6</td>\n",
       "    </tr>\n",
       "  </tbody>\n",
       "</table>\n",
       "</div>"
      ],
      "text/plain": [
       "   col_1  col_2\n",
       "3      5      7\n",
       "0      1      4\n",
       "1      2      5\n",
       "2      3      6"
      ]
     },
     "execution_count": 11,
     "metadata": {},
     "output_type": "execute_result"
    }
   ],
   "source": [
    "new_df"
   ]
  },
  {
   "cell_type": "code",
   "execution_count": 12,
   "id": "3471e705-0501-40bc-8f7a-d3af54813703",
   "metadata": {},
   "outputs": [
    {
     "data": {
      "text/plain": [
       "col_1    3\n",
       "col_2    6\n",
       "Name: 2, dtype: int64"
      ]
     },
     "execution_count": 12,
     "metadata": {},
     "output_type": "execute_result"
    }
   ],
   "source": [
    "new_df.loc[2]"
   ]
  },
  {
   "cell_type": "code",
   "execution_count": 13,
   "id": "ab950309-cc28-456f-9de4-ffe8d7d68aae",
   "metadata": {},
   "outputs": [
    {
     "data": {
      "text/plain": [
       "col_1    2\n",
       "col_2    5\n",
       "Name: 1, dtype: int64"
      ]
     },
     "execution_count": 13,
     "metadata": {},
     "output_type": "execute_result"
    }
   ],
   "source": [
    "new_df.iloc[2]"
   ]
  },
  {
   "cell_type": "markdown",
   "id": "88060a29-cf3a-4318-9523-0ccf809e72b7",
   "metadata": {},
   "source": [
    "EXPLAINATION :- loc takes the actual row and column assigned by user while iloc takes the (auto indexes) by machine"
   ]
  },
  {
   "cell_type": "markdown",
   "id": "bbf14be7-9160-4668-92fb-61ea2efbb8e0",
   "metadata": {},
   "source": [
    "# Question No. -(4)"
   ]
  },
  {
   "cell_type": "code",
   "execution_count": 14,
   "id": "4e489899-28f0-4043-b99b-48436b3ef2d9",
   "metadata": {},
   "outputs": [],
   "source": [
    "columns = ['column_1', 'column_2', 'column_3', 'column_4', 'column_5', 'column_6']\n",
    "indices = [1,2,3,4,5,6]\n",
    "df4 = pd.DataFrame(np.random.rand(6,6), columns = columns, index = indices)"
   ]
  },
  {
   "cell_type": "code",
   "execution_count": 15,
   "id": "10b76357-5d1c-47c5-92b9-8923c70a6f05",
   "metadata": {},
   "outputs": [
    {
     "data": {
      "text/html": [
       "<div>\n",
       "<style scoped>\n",
       "    .dataframe tbody tr th:only-of-type {\n",
       "        vertical-align: middle;\n",
       "    }\n",
       "\n",
       "    .dataframe tbody tr th {\n",
       "        vertical-align: top;\n",
       "    }\n",
       "\n",
       "    .dataframe thead th {\n",
       "        text-align: right;\n",
       "    }\n",
       "</style>\n",
       "<table border=\"1\" class=\"dataframe\">\n",
       "  <thead>\n",
       "    <tr style=\"text-align: right;\">\n",
       "      <th></th>\n",
       "      <th>column_1</th>\n",
       "      <th>column_2</th>\n",
       "      <th>column_3</th>\n",
       "      <th>column_4</th>\n",
       "      <th>column_5</th>\n",
       "      <th>column_6</th>\n",
       "    </tr>\n",
       "  </thead>\n",
       "  <tbody>\n",
       "    <tr>\n",
       "      <th>1</th>\n",
       "      <td>0.297287</td>\n",
       "      <td>0.647936</td>\n",
       "      <td>0.560185</td>\n",
       "      <td>0.487798</td>\n",
       "      <td>0.697368</td>\n",
       "      <td>0.953714</td>\n",
       "    </tr>\n",
       "    <tr>\n",
       "      <th>2</th>\n",
       "      <td>0.017518</td>\n",
       "      <td>0.910321</td>\n",
       "      <td>0.431540</td>\n",
       "      <td>0.051706</td>\n",
       "      <td>0.712546</td>\n",
       "      <td>0.232117</td>\n",
       "    </tr>\n",
       "    <tr>\n",
       "      <th>3</th>\n",
       "      <td>0.753573</td>\n",
       "      <td>0.382538</td>\n",
       "      <td>0.087054</td>\n",
       "      <td>0.086535</td>\n",
       "      <td>0.548572</td>\n",
       "      <td>0.981494</td>\n",
       "    </tr>\n",
       "    <tr>\n",
       "      <th>4</th>\n",
       "      <td>0.950912</td>\n",
       "      <td>0.335028</td>\n",
       "      <td>0.992412</td>\n",
       "      <td>0.166315</td>\n",
       "      <td>0.346855</td>\n",
       "      <td>0.830137</td>\n",
       "    </tr>\n",
       "    <tr>\n",
       "      <th>5</th>\n",
       "      <td>0.983672</td>\n",
       "      <td>0.550561</td>\n",
       "      <td>0.742999</td>\n",
       "      <td>0.338811</td>\n",
       "      <td>0.437581</td>\n",
       "      <td>0.612630</td>\n",
       "    </tr>\n",
       "    <tr>\n",
       "      <th>6</th>\n",
       "      <td>0.942493</td>\n",
       "      <td>0.389560</td>\n",
       "      <td>0.461174</td>\n",
       "      <td>0.274870</td>\n",
       "      <td>0.457756</td>\n",
       "      <td>0.507465</td>\n",
       "    </tr>\n",
       "  </tbody>\n",
       "</table>\n",
       "</div>"
      ],
      "text/plain": [
       "   column_1  column_2  column_3  column_4  column_5  column_6\n",
       "1  0.297287  0.647936  0.560185  0.487798  0.697368  0.953714\n",
       "2  0.017518  0.910321  0.431540  0.051706  0.712546  0.232117\n",
       "3  0.753573  0.382538  0.087054  0.086535  0.548572  0.981494\n",
       "4  0.950912  0.335028  0.992412  0.166315  0.346855  0.830137\n",
       "5  0.983672  0.550561  0.742999  0.338811  0.437581  0.612630\n",
       "6  0.942493  0.389560  0.461174  0.274870  0.457756  0.507465"
      ]
     },
     "execution_count": 15,
     "metadata": {},
     "output_type": "execute_result"
    }
   ],
   "source": [
    "df4"
   ]
  },
  {
   "cell_type": "code",
   "execution_count": 16,
   "id": "a04915aa-e2bd-4bdc-9410-3d2f3de28066",
   "metadata": {},
   "outputs": [
    {
     "data": {
      "text/plain": [
       "column_1    0.657576\n",
       "column_2    0.535991\n",
       "column_3    0.545894\n",
       "column_4    0.234339\n",
       "column_5    0.533446\n",
       "column_6    0.686259\n",
       "dtype: float64"
      ]
     },
     "execution_count": 16,
     "metadata": {},
     "output_type": "execute_result"
    }
   ],
   "source": [
    "# mean of all columns \n",
    "df4[['column_1', 'column_2', 'column_3', 'column_4', 'column_5', 'column_6']].mean()"
   ]
  },
  {
   "cell_type": "code",
   "execution_count": 17,
   "id": "9e02dc80-83d7-4763-9609-2f8db22f4932",
   "metadata": {},
   "outputs": [
    {
     "data": {
      "text/plain": [
       "column_2    0.218286\n",
       "dtype: float64"
      ]
     },
     "execution_count": 17,
     "metadata": {},
     "output_type": "execute_result"
    }
   ],
   "source": [
    "# standard deviation of column_2 \n",
    "df4[['column_2']].std()\n"
   ]
  },
  {
   "cell_type": "markdown",
   "id": "ff7a5a90-2690-4871-82fa-b31fb959aa44",
   "metadata": {},
   "source": [
    "# Question No. -(5)"
   ]
  },
  {
   "cell_type": "code",
   "execution_count": 18,
   "id": "9cf052b7-e956-417a-bac8-c4c1394590f2",
   "metadata": {},
   "outputs": [],
   "source": [
    "df4['column_2'][2] = 'pwskills'"
   ]
  },
  {
   "cell_type": "code",
   "execution_count": 19,
   "id": "cfe99c74-20aa-486c-b830-72942482df90",
   "metadata": {},
   "outputs": [
    {
     "data": {
      "text/html": [
       "<div>\n",
       "<style scoped>\n",
       "    .dataframe tbody tr th:only-of-type {\n",
       "        vertical-align: middle;\n",
       "    }\n",
       "\n",
       "    .dataframe tbody tr th {\n",
       "        vertical-align: top;\n",
       "    }\n",
       "\n",
       "    .dataframe thead th {\n",
       "        text-align: right;\n",
       "    }\n",
       "</style>\n",
       "<table border=\"1\" class=\"dataframe\">\n",
       "  <thead>\n",
       "    <tr style=\"text-align: right;\">\n",
       "      <th></th>\n",
       "      <th>column_1</th>\n",
       "      <th>column_2</th>\n",
       "      <th>column_3</th>\n",
       "      <th>column_4</th>\n",
       "      <th>column_5</th>\n",
       "      <th>column_6</th>\n",
       "    </tr>\n",
       "  </thead>\n",
       "  <tbody>\n",
       "    <tr>\n",
       "      <th>1</th>\n",
       "      <td>0.297287</td>\n",
       "      <td>0.647936</td>\n",
       "      <td>0.560185</td>\n",
       "      <td>0.487798</td>\n",
       "      <td>0.697368</td>\n",
       "      <td>0.953714</td>\n",
       "    </tr>\n",
       "    <tr>\n",
       "      <th>2</th>\n",
       "      <td>0.017518</td>\n",
       "      <td>pwskills</td>\n",
       "      <td>0.431540</td>\n",
       "      <td>0.051706</td>\n",
       "      <td>0.712546</td>\n",
       "      <td>0.232117</td>\n",
       "    </tr>\n",
       "    <tr>\n",
       "      <th>3</th>\n",
       "      <td>0.753573</td>\n",
       "      <td>0.382538</td>\n",
       "      <td>0.087054</td>\n",
       "      <td>0.086535</td>\n",
       "      <td>0.548572</td>\n",
       "      <td>0.981494</td>\n",
       "    </tr>\n",
       "    <tr>\n",
       "      <th>4</th>\n",
       "      <td>0.950912</td>\n",
       "      <td>0.335028</td>\n",
       "      <td>0.992412</td>\n",
       "      <td>0.166315</td>\n",
       "      <td>0.346855</td>\n",
       "      <td>0.830137</td>\n",
       "    </tr>\n",
       "    <tr>\n",
       "      <th>5</th>\n",
       "      <td>0.983672</td>\n",
       "      <td>0.550561</td>\n",
       "      <td>0.742999</td>\n",
       "      <td>0.338811</td>\n",
       "      <td>0.437581</td>\n",
       "      <td>0.612630</td>\n",
       "    </tr>\n",
       "    <tr>\n",
       "      <th>6</th>\n",
       "      <td>0.942493</td>\n",
       "      <td>0.38956</td>\n",
       "      <td>0.461174</td>\n",
       "      <td>0.274870</td>\n",
       "      <td>0.457756</td>\n",
       "      <td>0.507465</td>\n",
       "    </tr>\n",
       "  </tbody>\n",
       "</table>\n",
       "</div>"
      ],
      "text/plain": [
       "   column_1  column_2  column_3  column_4  column_5  column_6\n",
       "1  0.297287  0.647936  0.560185  0.487798  0.697368  0.953714\n",
       "2  0.017518  pwskills  0.431540  0.051706  0.712546  0.232117\n",
       "3  0.753573  0.382538  0.087054  0.086535  0.548572  0.981494\n",
       "4  0.950912  0.335028  0.992412  0.166315  0.346855  0.830137\n",
       "5  0.983672  0.550561  0.742999  0.338811  0.437581  0.612630\n",
       "6  0.942493   0.38956  0.461174  0.274870  0.457756  0.507465"
      ]
     },
     "execution_count": 19,
     "metadata": {},
     "output_type": "execute_result"
    }
   ],
   "source": [
    "# converted row 2 and column 2 variable with string name 'pwskills'\n",
    "df4"
   ]
  },
  {
   "cell_type": "markdown",
   "id": "366f477d-bbf1-4c83-9184-a9d9c99af2af",
   "metadata": {},
   "source": [
    "  error_data = df4['column_2'].mean()"
   ]
  },
  {
   "cell_type": "markdown",
   "id": "c5f385a7-a1b4-4a0a-8cc4-5ff6fe244a95",
   "metadata": {},
   "source": [
    "getting error in executing data beacuase mean of string value can't be calculated "
   ]
  },
  {
   "cell_type": "markdown",
   "id": "4907ed14-d479-4ee1-9e53-3cf15b243b4f",
   "metadata": {},
   "source": [
    "# Question No. - (6)"
   ]
  },
  {
   "cell_type": "markdown",
   "id": "60b2f69f-4c19-4302-9978-55a14913325a",
   "metadata": {},
   "source": [
    "Types of windows function "
   ]
  },
  {
   "cell_type": "markdown",
   "id": "23383f40-ab17-4528-9a2e-f3b18ba0341a",
   "metadata": {},
   "source": [
    "--> rolling(), used as sliding window and those window is considered as data frame , and we can find \n",
    "data for that particular window "
   ]
  },
  {
   "cell_type": "code",
   "execution_count": 20,
   "id": "20043622-41dd-4703-bd68-4c8bdff4bb9a",
   "metadata": {},
   "outputs": [],
   "source": [
    "df5 = pd.DataFrame({'A': [1, 2, 3, 4, 5]})\n",
    "rolling_mean = df5['A'].rolling(window=2).mean()"
   ]
  },
  {
   "cell_type": "code",
   "execution_count": 21,
   "id": "82efbcf0-2237-4aa0-bb85-3e3f8247218c",
   "metadata": {},
   "outputs": [
    {
     "data": {
      "text/plain": [
       "0    NaN\n",
       "1    1.5\n",
       "2    2.5\n",
       "3    3.5\n",
       "4    4.5\n",
       "Name: A, dtype: float64"
      ]
     },
     "execution_count": 21,
     "metadata": {},
     "output_type": "execute_result"
    }
   ],
   "source": [
    "rolling_mean"
   ]
  },
  {
   "cell_type": "markdown",
   "id": "9f7d6f28-3663-473b-b869-a3e267b1d6cb",
   "metadata": {},
   "source": [
    "--> expanding() - use to find the data from start to current point"
   ]
  },
  {
   "cell_type": "code",
   "execution_count": 22,
   "id": "fa3d35c0-cf37-4158-80e1-75d6db8a65c3",
   "metadata": {},
   "outputs": [],
   "source": [
    "expanding_sum = df5['A'].expanding().sum()"
   ]
  },
  {
   "cell_type": "code",
   "execution_count": 23,
   "id": "b80e4959-7028-45f7-9d9b-c1be4b6e6ac7",
   "metadata": {},
   "outputs": [
    {
     "data": {
      "text/plain": [
       "0     1.0\n",
       "1     3.0\n",
       "2     6.0\n",
       "3    10.0\n",
       "4    15.0\n",
       "Name: A, dtype: float64"
      ]
     },
     "execution_count": 23,
     "metadata": {},
     "output_type": "execute_result"
    }
   ],
   "source": [
    "expanding_sum"
   ]
  },
  {
   "cell_type": "markdown",
   "id": "c5937d21-33c9-4d9c-aef7-cc8d6221918b",
   "metadata": {},
   "source": [
    "--> ewm(), it is another type of window function that gives more weight to recent observations"
   ]
  },
  {
   "cell_type": "code",
   "execution_count": 24,
   "id": "3a6ef612-9a9a-49de-8cbe-0ff4d2f36199",
   "metadata": {},
   "outputs": [],
   "source": [
    "ewma = df5['A'].ewm(span=2, adjust=False).mean()"
   ]
  },
  {
   "cell_type": "code",
   "execution_count": 25,
   "id": "11b484fa-78b1-4955-9c26-f0b1d7084b67",
   "metadata": {},
   "outputs": [
    {
     "data": {
      "text/plain": [
       "0    1.000000\n",
       "1    1.666667\n",
       "2    2.555556\n",
       "3    3.518519\n",
       "4    4.506173\n",
       "Name: A, dtype: float64"
      ]
     },
     "execution_count": 25,
     "metadata": {},
     "output_type": "execute_result"
    }
   ],
   "source": [
    "ewma"
   ]
  },
  {
   "cell_type": "markdown",
   "id": "b3ad48d1-817c-487c-b25e-f9d1dd591c43",
   "metadata": {},
   "source": [
    "# Question No.-(7)"
   ]
  },
  {
   "cell_type": "code",
   "execution_count": 26,
   "id": "ac910cfd-48c6-4a05-a2b9-5ab87a50f2fc",
   "metadata": {},
   "outputs": [],
   "source": [
    "from datetime import datetime"
   ]
  },
  {
   "cell_type": "code",
   "execution_count": 27,
   "id": "941e0e5e-f8da-495c-a15a-d7865748c313",
   "metadata": {},
   "outputs": [],
   "source": [
    "current_datetime = datetime.now()"
   ]
  },
  {
   "cell_type": "code",
   "execution_count": 28,
   "id": "e325760e-99f4-425c-a48a-47ef00414094",
   "metadata": {},
   "outputs": [
    {
     "data": {
      "text/plain": [
       "datetime.datetime(2024, 1, 1, 15, 7, 1, 724180)"
      ]
     },
     "execution_count": 28,
     "metadata": {},
     "output_type": "execute_result"
    }
   ],
   "source": [
    "current_datetime"
   ]
  },
  {
   "cell_type": "markdown",
   "id": "a94c96aa-c303-4f27-8f45-da158a6f6c15",
   "metadata": {},
   "source": [
    "# Question No.-(8)"
   ]
  },
  {
   "cell_type": "code",
   "execution_count": 29,
   "id": "eee419ab-51a0-428a-bc89-3d338d4565cc",
   "metadata": {},
   "outputs": [],
   "source": [
    "def calculate_time_difference(date1, date2):\n",
    "    # Convert input strings to datetime objects\n",
    "    date1 = pd.to_datetime(date1)\n",
    "    date2 = pd.to_datetime(date2)\n",
    "\n",
    "    # Calculate time difference\n",
    "    time_difference = date2 - date1\n",
    "    print(time_difference)\n",
    "    # Extract days, hours, and minutes\n",
    "    days_difference = time_difference.days\n",
    "    hours_difference, remainder = divmod(time_difference.seconds, 3600)\n",
    "    minutes_difference, _ = divmod(remainder, 60)\n",
    "\n",
    "    return days_difference, hours_difference, minutes_difference"
   ]
  },
  {
   "cell_type": "code",
   "execution_count": 30,
   "id": "cd483994-209a-49d2-99ba-e2c0fdbd1a5f",
   "metadata": {},
   "outputs": [
    {
     "name": "stdout",
     "output_type": "stream",
     "text": [
      "7132 days 00:00:00\n"
     ]
    },
    {
     "data": {
      "text/plain": [
       "(7132, 0, 0)"
      ]
     },
     "execution_count": 30,
     "metadata": {},
     "output_type": "execute_result"
    }
   ],
   "source": [
    "calculate_time_difference('2004-06-22','2024-01-01')"
   ]
  },
  {
   "cell_type": "markdown",
   "id": "e166b80c-eb21-41cc-adff-e75b864d65fa",
   "metadata": {},
   "source": [
    "# Question No. -(9)"
   ]
  },
  {
   "cell_type": "code",
   "execution_count": 31,
   "id": "47726e1e-d478-49c4-b6d5-28ec5408ef44",
   "metadata": {},
   "outputs": [],
   "source": [
    "df6 = pd.DataFrame({'column':[6,3,4,76,23,764,34]})"
   ]
  },
  {
   "cell_type": "code",
   "execution_count": 32,
   "id": "cca43ddb-3ee5-4173-868f-760f2140a31b",
   "metadata": {},
   "outputs": [],
   "source": [
    "df6.to_csv('data.csv', index = False)"
   ]
  },
  {
   "cell_type": "code",
   "execution_count": 33,
   "id": "d41a6a6b-6398-4bff-8ffa-0200b022af9a",
   "metadata": {},
   "outputs": [],
   "source": [
    "def convert_to_categorical(file_path, column_name, category_order):\n",
    "    # Read the CSV file into a DataFrame\n",
    "    df = pd.read_csv(file_path)\n",
    "\n",
    "    # Convert the specified column to categorical with custom order\n",
    "    df[column_name] = pd.Categorical(df[column_name], categories=category_order, ordered=True)\n",
    "\n",
    "    # Sort the DataFrame based on the specified column\n",
    "    df_sorted = df.sort_values(column_name)\n",
    "\n",
    "    return df_sorted"
   ]
  },
  {
   "cell_type": "code",
   "execution_count": 34,
   "id": "bb74e225-5788-4235-b2cc-64bdad389f74",
   "metadata": {},
   "outputs": [],
   "source": [
    "df_sorted = convert_to_categorical('data.csv', 'column', None )"
   ]
  },
  {
   "cell_type": "code",
   "execution_count": 35,
   "id": "e2431669-f1a2-47e5-b648-2eb7e88ff6e2",
   "metadata": {},
   "outputs": [
    {
     "data": {
      "text/html": [
       "<div>\n",
       "<style scoped>\n",
       "    .dataframe tbody tr th:only-of-type {\n",
       "        vertical-align: middle;\n",
       "    }\n",
       "\n",
       "    .dataframe tbody tr th {\n",
       "        vertical-align: top;\n",
       "    }\n",
       "\n",
       "    .dataframe thead th {\n",
       "        text-align: right;\n",
       "    }\n",
       "</style>\n",
       "<table border=\"1\" class=\"dataframe\">\n",
       "  <thead>\n",
       "    <tr style=\"text-align: right;\">\n",
       "      <th></th>\n",
       "      <th>column</th>\n",
       "    </tr>\n",
       "  </thead>\n",
       "  <tbody>\n",
       "    <tr>\n",
       "      <th>1</th>\n",
       "      <td>3</td>\n",
       "    </tr>\n",
       "    <tr>\n",
       "      <th>2</th>\n",
       "      <td>4</td>\n",
       "    </tr>\n",
       "    <tr>\n",
       "      <th>0</th>\n",
       "      <td>6</td>\n",
       "    </tr>\n",
       "    <tr>\n",
       "      <th>4</th>\n",
       "      <td>23</td>\n",
       "    </tr>\n",
       "    <tr>\n",
       "      <th>6</th>\n",
       "      <td>34</td>\n",
       "    </tr>\n",
       "    <tr>\n",
       "      <th>3</th>\n",
       "      <td>76</td>\n",
       "    </tr>\n",
       "    <tr>\n",
       "      <th>5</th>\n",
       "      <td>764</td>\n",
       "    </tr>\n",
       "  </tbody>\n",
       "</table>\n",
       "</div>"
      ],
      "text/plain": [
       "  column\n",
       "1      3\n",
       "2      4\n",
       "0      6\n",
       "4     23\n",
       "6     34\n",
       "3     76\n",
       "5    764"
      ]
     },
     "execution_count": 35,
     "metadata": {},
     "output_type": "execute_result"
    }
   ],
   "source": [
    "df_sorted"
   ]
  },
  {
   "cell_type": "markdown",
   "id": "8846ba9c-3ccb-4c8a-a868-63bb3ba9ddd4",
   "metadata": {},
   "source": [
    "# Question No. - (10)"
   ]
  },
  {
   "cell_type": "code",
   "execution_count": 36,
   "id": "22471fa6-a4ae-4d75-a6a0-da68caacf9a4",
   "metadata": {},
   "outputs": [],
   "source": [
    "date_range = pd.date_range(start='2022-01-01', end='2022-01-10', freq='D')\n",
    "\n",
    "data = {\n",
    "    'Date': np.random.choice(date_range, size=30),\n",
    "    'Category': np.random.choice(['Electronics', 'Clothing', 'Books'], size=30),\n",
    "    'Sales': np.random.randint(10, 100, size=30)\n",
    "}\n",
    "\n",
    "df7 = pd.DataFrame(data)"
   ]
  },
  {
   "cell_type": "code",
   "execution_count": 37,
   "id": "cdc78845-1c38-424c-942e-776107afad49",
   "metadata": {},
   "outputs": [
    {
     "data": {
      "text/html": [
       "<div>\n",
       "<style scoped>\n",
       "    .dataframe tbody tr th:only-of-type {\n",
       "        vertical-align: middle;\n",
       "    }\n",
       "\n",
       "    .dataframe tbody tr th {\n",
       "        vertical-align: top;\n",
       "    }\n",
       "\n",
       "    .dataframe thead th {\n",
       "        text-align: right;\n",
       "    }\n",
       "</style>\n",
       "<table border=\"1\" class=\"dataframe\">\n",
       "  <thead>\n",
       "    <tr style=\"text-align: right;\">\n",
       "      <th></th>\n",
       "      <th>Date</th>\n",
       "      <th>Category</th>\n",
       "      <th>Sales</th>\n",
       "    </tr>\n",
       "  </thead>\n",
       "  <tbody>\n",
       "    <tr>\n",
       "      <th>0</th>\n",
       "      <td>2022-01-08</td>\n",
       "      <td>Clothing</td>\n",
       "      <td>34</td>\n",
       "    </tr>\n",
       "    <tr>\n",
       "      <th>1</th>\n",
       "      <td>2022-01-03</td>\n",
       "      <td>Books</td>\n",
       "      <td>94</td>\n",
       "    </tr>\n",
       "    <tr>\n",
       "      <th>2</th>\n",
       "      <td>2022-01-07</td>\n",
       "      <td>Clothing</td>\n",
       "      <td>82</td>\n",
       "    </tr>\n",
       "    <tr>\n",
       "      <th>3</th>\n",
       "      <td>2022-01-03</td>\n",
       "      <td>Books</td>\n",
       "      <td>52</td>\n",
       "    </tr>\n",
       "    <tr>\n",
       "      <th>4</th>\n",
       "      <td>2022-01-07</td>\n",
       "      <td>Electronics</td>\n",
       "      <td>32</td>\n",
       "    </tr>\n",
       "    <tr>\n",
       "      <th>5</th>\n",
       "      <td>2022-01-09</td>\n",
       "      <td>Clothing</td>\n",
       "      <td>43</td>\n",
       "    </tr>\n",
       "    <tr>\n",
       "      <th>6</th>\n",
       "      <td>2022-01-09</td>\n",
       "      <td>Electronics</td>\n",
       "      <td>88</td>\n",
       "    </tr>\n",
       "    <tr>\n",
       "      <th>7</th>\n",
       "      <td>2022-01-06</td>\n",
       "      <td>Clothing</td>\n",
       "      <td>94</td>\n",
       "    </tr>\n",
       "    <tr>\n",
       "      <th>8</th>\n",
       "      <td>2022-01-03</td>\n",
       "      <td>Electronics</td>\n",
       "      <td>36</td>\n",
       "    </tr>\n",
       "    <tr>\n",
       "      <th>9</th>\n",
       "      <td>2022-01-06</td>\n",
       "      <td>Books</td>\n",
       "      <td>80</td>\n",
       "    </tr>\n",
       "    <tr>\n",
       "      <th>10</th>\n",
       "      <td>2022-01-07</td>\n",
       "      <td>Clothing</td>\n",
       "      <td>85</td>\n",
       "    </tr>\n",
       "    <tr>\n",
       "      <th>11</th>\n",
       "      <td>2022-01-10</td>\n",
       "      <td>Clothing</td>\n",
       "      <td>96</td>\n",
       "    </tr>\n",
       "    <tr>\n",
       "      <th>12</th>\n",
       "      <td>2022-01-05</td>\n",
       "      <td>Books</td>\n",
       "      <td>97</td>\n",
       "    </tr>\n",
       "    <tr>\n",
       "      <th>13</th>\n",
       "      <td>2022-01-03</td>\n",
       "      <td>Books</td>\n",
       "      <td>21</td>\n",
       "    </tr>\n",
       "    <tr>\n",
       "      <th>14</th>\n",
       "      <td>2022-01-04</td>\n",
       "      <td>Books</td>\n",
       "      <td>21</td>\n",
       "    </tr>\n",
       "    <tr>\n",
       "      <th>15</th>\n",
       "      <td>2022-01-05</td>\n",
       "      <td>Clothing</td>\n",
       "      <td>67</td>\n",
       "    </tr>\n",
       "    <tr>\n",
       "      <th>16</th>\n",
       "      <td>2022-01-02</td>\n",
       "      <td>Electronics</td>\n",
       "      <td>51</td>\n",
       "    </tr>\n",
       "    <tr>\n",
       "      <th>17</th>\n",
       "      <td>2022-01-04</td>\n",
       "      <td>Electronics</td>\n",
       "      <td>68</td>\n",
       "    </tr>\n",
       "    <tr>\n",
       "      <th>18</th>\n",
       "      <td>2022-01-01</td>\n",
       "      <td>Books</td>\n",
       "      <td>28</td>\n",
       "    </tr>\n",
       "    <tr>\n",
       "      <th>19</th>\n",
       "      <td>2022-01-08</td>\n",
       "      <td>Books</td>\n",
       "      <td>11</td>\n",
       "    </tr>\n",
       "    <tr>\n",
       "      <th>20</th>\n",
       "      <td>2022-01-05</td>\n",
       "      <td>Books</td>\n",
       "      <td>43</td>\n",
       "    </tr>\n",
       "    <tr>\n",
       "      <th>21</th>\n",
       "      <td>2022-01-03</td>\n",
       "      <td>Clothing</td>\n",
       "      <td>52</td>\n",
       "    </tr>\n",
       "    <tr>\n",
       "      <th>22</th>\n",
       "      <td>2022-01-01</td>\n",
       "      <td>Electronics</td>\n",
       "      <td>60</td>\n",
       "    </tr>\n",
       "    <tr>\n",
       "      <th>23</th>\n",
       "      <td>2022-01-05</td>\n",
       "      <td>Books</td>\n",
       "      <td>22</td>\n",
       "    </tr>\n",
       "    <tr>\n",
       "      <th>24</th>\n",
       "      <td>2022-01-05</td>\n",
       "      <td>Electronics</td>\n",
       "      <td>55</td>\n",
       "    </tr>\n",
       "    <tr>\n",
       "      <th>25</th>\n",
       "      <td>2022-01-01</td>\n",
       "      <td>Clothing</td>\n",
       "      <td>70</td>\n",
       "    </tr>\n",
       "    <tr>\n",
       "      <th>26</th>\n",
       "      <td>2022-01-03</td>\n",
       "      <td>Clothing</td>\n",
       "      <td>78</td>\n",
       "    </tr>\n",
       "    <tr>\n",
       "      <th>27</th>\n",
       "      <td>2022-01-08</td>\n",
       "      <td>Clothing</td>\n",
       "      <td>95</td>\n",
       "    </tr>\n",
       "    <tr>\n",
       "      <th>28</th>\n",
       "      <td>2022-01-03</td>\n",
       "      <td>Electronics</td>\n",
       "      <td>13</td>\n",
       "    </tr>\n",
       "    <tr>\n",
       "      <th>29</th>\n",
       "      <td>2022-01-06</td>\n",
       "      <td>Clothing</td>\n",
       "      <td>51</td>\n",
       "    </tr>\n",
       "  </tbody>\n",
       "</table>\n",
       "</div>"
      ],
      "text/plain": [
       "         Date     Category  Sales\n",
       "0  2022-01-08     Clothing     34\n",
       "1  2022-01-03        Books     94\n",
       "2  2022-01-07     Clothing     82\n",
       "3  2022-01-03        Books     52\n",
       "4  2022-01-07  Electronics     32\n",
       "5  2022-01-09     Clothing     43\n",
       "6  2022-01-09  Electronics     88\n",
       "7  2022-01-06     Clothing     94\n",
       "8  2022-01-03  Electronics     36\n",
       "9  2022-01-06        Books     80\n",
       "10 2022-01-07     Clothing     85\n",
       "11 2022-01-10     Clothing     96\n",
       "12 2022-01-05        Books     97\n",
       "13 2022-01-03        Books     21\n",
       "14 2022-01-04        Books     21\n",
       "15 2022-01-05     Clothing     67\n",
       "16 2022-01-02  Electronics     51\n",
       "17 2022-01-04  Electronics     68\n",
       "18 2022-01-01        Books     28\n",
       "19 2022-01-08        Books     11\n",
       "20 2022-01-05        Books     43\n",
       "21 2022-01-03     Clothing     52\n",
       "22 2022-01-01  Electronics     60\n",
       "23 2022-01-05        Books     22\n",
       "24 2022-01-05  Electronics     55\n",
       "25 2022-01-01     Clothing     70\n",
       "26 2022-01-03     Clothing     78\n",
       "27 2022-01-08     Clothing     95\n",
       "28 2022-01-03  Electronics     13\n",
       "29 2022-01-06     Clothing     51"
      ]
     },
     "execution_count": 37,
     "metadata": {},
     "output_type": "execute_result"
    }
   ],
   "source": [
    "df7"
   ]
  },
  {
   "cell_type": "code",
   "execution_count": 38,
   "id": "d51dcdce-f599-4713-8ffe-f0dbefd869de",
   "metadata": {},
   "outputs": [],
   "source": [
    "df7.to_csv('sales_data.csv', index = False)"
   ]
  },
  {
   "cell_type": "code",
   "execution_count": 39,
   "id": "4e17c4ea-7518-4c83-a967-7a6debb060d9",
   "metadata": {},
   "outputs": [],
   "source": [
    "import matplotlib.pyplot as plt"
   ]
  },
  {
   "cell_type": "code",
   "execution_count": 40,
   "id": "4d331293-0eb6-4320-bb89-72cab3ca00ba",
   "metadata": {},
   "outputs": [],
   "source": [
    "def visualize_sales_data(file_path):\n",
    "    # Read the CSV file into a DataFrame\n",
    "    df = pd.read_csv(file_path)\n",
    "\n",
    "    # Assuming the DataFrame has columns: 'Date', 'Category', 'Sales'\n",
    "    # You may need to adapt this based on your actual column names\n",
    "\n",
    "    # Convert the 'Date' column to datetime type\n",
    "    df['Date'] = pd.to_datetime(df['Date'])\n",
    "\n",
    "    # Pivot the DataFrame to create a matrix suitable for a stacked bar chart\n",
    "    pivot_df = df.pivot(columns='Category', values='Sales').fillna(0)\n",
    "\n",
    "    # Plot a stacked bar chart\n",
    "    pivot_df.plot(kind='bar', stacked=True, figsize=(10, 6))\n",
    "    \n",
    "    # Customize the chart\n",
    "    plt.title('Stacked Bar Chart of Sales Over Time')\n",
    "    plt.xlabel('Date')\n",
    "    plt.ylabel('Sales')\n",
    "    plt.legend(title='Category')\n",
    "\n",
    "    # Display the chart\n",
    "    plt.show()"
   ]
  },
  {
   "cell_type": "code",
   "execution_count": 41,
   "id": "35beee09-9af8-4b89-89bd-9132da97b3dd",
   "metadata": {},
   "outputs": [
    {
     "data": {
      "image/png": "[encoded data removed]",
      "text/plain": [
       "<Figure size 1000x600 with 1 Axes>"
      ]
     },
     "metadata": {},
     "output_type": "display_data"
    }
   ],
   "source": [
    "visualize_sales_data('sales_data.csv')"
   ]
  },
  {
   "cell_type": "markdown",
   "id": "1864ce04-9264-4a2f-9d43-8bbf8bd618e3",
   "metadata": {},
   "source": [
    "# Question No. - (11)"
   ]
  },
  {
   "cell_type": "code",
   "execution_count": 47,
   "id": "85b22f42-489c-4678-a6cc-ecd27490c3e5",
   "metadata": {},
   "outputs": [
    {
     "ename": "SyntaxError",
     "evalue": "invalid syntax. Perhaps you forgot a comma? (204025669.py, line 14)",
     "output_type": "error",
     "traceback": [
      "\u001b[0;36m  Cell \u001b[0;32mIn[47], line 14\u001b[0;36m\u001b[0m\n\u001b[0;31m    'StudentID': [1,2,3,4,5,6,7,8,9,10]\u001b[0m\n\u001b[0m                 ^\u001b[0m\n\u001b[0;31mSyntaxError\u001b[0m\u001b[0;31m:\u001b[0m invalid syntax. Perhaps you forgot a comma?\n"
     ]
    }
   ],
   "source": [
    "1,85\n",
    "2,90\n",
    "3,80\n",
    "4,75\n",
    "5,85\n",
    "6,82\n",
    "7,78\n",
    "8,85\n",
    "9,90\n",
    "10,85 \n",
    "\n",
    "# Creating the DataFrame\n",
    "data = {\n",
    "    'StudentID': [1,2,3,4,5,6,7,8,9,10],\n",
    "    'TestScore': [85,90,80,75,85,82,78,85,90,85]\n",
    "}\n",
    "\n",
    "df8 = pd.DataFrame(data)"
   ]
  },
  {
   "cell_type": "code",
   "execution_count": 43,
   "id": "cb2e3d76-a33b-4524-b679-04851e37c690",
   "metadata": {},
   "outputs": [
    {
     "data": {
      "text/html": [
       "<div>\n",
       "<style scoped>\n",
       "    .dataframe tbody tr th:only-of-type {\n",
       "        vertical-align: middle;\n",
       "    }\n",
       "\n",
       "    .dataframe tbody tr th {\n",
       "        vertical-align: top;\n",
       "    }\n",
       "\n",
       "    .dataframe thead th {\n",
       "        text-align: right;\n",
       "    }\n",
       "</style>\n",
       "<table border=\"1\" class=\"dataframe\">\n",
       "  <thead>\n",
       "    <tr style=\"text-align: right;\">\n",
       "      <th></th>\n",
       "      <th>StudentID</th>\n",
       "      <th>TestScore</th>\n",
       "    </tr>\n",
       "  </thead>\n",
       "  <tbody>\n",
       "    <tr>\n",
       "      <th>0</th>\n",
       "      <td>1</td>\n",
       "      <td>89</td>\n",
       "    </tr>\n",
       "    <tr>\n",
       "      <th>1</th>\n",
       "      <td>2</td>\n",
       "      <td>62</td>\n",
       "    </tr>\n",
       "    <tr>\n",
       "      <th>2</th>\n",
       "      <td>3</td>\n",
       "      <td>68</td>\n",
       "    </tr>\n",
       "    <tr>\n",
       "      <th>3</th>\n",
       "      <td>4</td>\n",
       "      <td>65</td>\n",
       "    </tr>\n",
       "    <tr>\n",
       "      <th>4</th>\n",
       "      <td>5</td>\n",
       "      <td>97</td>\n",
       "    </tr>\n",
       "    <tr>\n",
       "      <th>...</th>\n",
       "      <td>...</td>\n",
       "      <td>...</td>\n",
       "    </tr>\n",
       "    <tr>\n",
       "      <th>95</th>\n",
       "      <td>96</td>\n",
       "      <td>78</td>\n",
       "    </tr>\n",
       "    <tr>\n",
       "      <th>96</th>\n",
       "      <td>97</td>\n",
       "      <td>65</td>\n",
       "    </tr>\n",
       "    <tr>\n",
       "      <th>97</th>\n",
       "      <td>98</td>\n",
       "      <td>81</td>\n",
       "    </tr>\n",
       "    <tr>\n",
       "      <th>98</th>\n",
       "      <td>99</td>\n",
       "      <td>52</td>\n",
       "    </tr>\n",
       "    <tr>\n",
       "      <th>99</th>\n",
       "      <td>100</td>\n",
       "      <td>91</td>\n",
       "    </tr>\n",
       "  </tbody>\n",
       "</table>\n",
       "<p>100 rows × 2 columns</p>\n",
       "</div>"
      ],
      "text/plain": [
       "    StudentID  TestScore\n",
       "0           1         89\n",
       "1           2         62\n",
       "2           3         68\n",
       "3           4         65\n",
       "4           5         97\n",
       "..        ...        ...\n",
       "95         96         78\n",
       "96         97         65\n",
       "97         98         81\n",
       "98         99         52\n",
       "99        100         91\n",
       "\n",
       "[100 rows x 2 columns]"
      ]
     },
     "execution_count": 43,
     "metadata": {},
     "output_type": "execute_result"
    }
   ],
   "source": [
    "df8"
   ]
  },
  {
   "cell_type": "code",
   "execution_count": 44,
   "id": "81c8799b-2851-4a8d-a5fd-c278c3ea8654",
   "metadata": {},
   "outputs": [],
   "source": [
    "df8.to_csv('students_data.csv' ,index = False)"
   ]
  },
  {
   "cell_type": "code",
   "execution_count": 45,
   "id": "209246ac-71ae-4e00-ad58-49c7850c89c2",
   "metadata": {},
   "outputs": [],
   "source": [
    "def analyze_student_data(file_path):\n",
    "    # Read the CSV file into a DataFrame\n",
    "    df = pd.read_csv(file_path)\n",
    "\n",
    "    # Calculate mean, median, and mode of the test scores\n",
    "    mean_score = df['TestScore'].mean()\n",
    "    median_score = df['TestScore'].median()\n",
    "    mode_score = df['TestScore'].mode()\n",
    "\n",
    "    # Display the results in a table\n",
    "    results_table = pd.DataFrame({\n",
    "        'Metric': ['Mean', 'Median', 'Mode'],\n",
    "        'Test Score': [mean_score, median_score, mode_score]\n",
    "    })\n",
    "    \n",
    "    return results_table"
   ]
  },
  {
   "cell_type": "code",
   "execution_count": 46,
   "id": "c4d921e1-8b22-480e-a447-3d63467acbe3",
   "metadata": {},
   "outputs": [
    {
     "data": {
      "text/html": [
       "<div>\n",
       "<style scoped>\n",
       "    .dataframe tbody tr th:only-of-type {\n",
       "        vertical-align: middle;\n",
       "    }\n",
       "\n",
       "    .dataframe tbody tr th {\n",
       "        vertical-align: top;\n",
       "    }\n",
       "\n",
       "    .dataframe thead th {\n",
       "        text-align: right;\n",
       "    }\n",
       "</style>\n",
       "<table border=\"1\" class=\"dataframe\">\n",
       "  <thead>\n",
       "    <tr style=\"text-align: right;\">\n",
       "      <th></th>\n",
       "      <th>Metric</th>\n",
       "      <th>Test Score</th>\n",
       "    </tr>\n",
       "  </thead>\n",
       "  <tbody>\n",
       "    <tr>\n",
       "      <th>0</th>\n",
       "      <td>Mean</td>\n",
       "      <td>75.44</td>\n",
       "    </tr>\n",
       "    <tr>\n",
       "      <th>1</th>\n",
       "      <td>Median</td>\n",
       "      <td>75.5</td>\n",
       "    </tr>\n",
       "    <tr>\n",
       "      <th>2</th>\n",
       "      <td>Mode</td>\n",
       "      <td>0    88\n",
       "Name: TestScore, dtype: int64</td>\n",
       "    </tr>\n",
       "  </tbody>\n",
       "</table>\n",
       "</div>"
      ],
      "text/plain": [
       "   Metric                             Test Score\n",
       "0    Mean                                  75.44\n",
       "1  Median                                   75.5\n",
       "2    Mode  0    88\n",
       "Name: TestScore, dtype: int64"
      ]
     },
     "execution_count": 46,
     "metadata": {},
     "output_type": "execute_result"
    }
   ],
   "source": [
    "analyze_student_data('students_data.csv')"
   ]
  },
  {
   "cell_type": "code",
   "execution_count": null,
   "id": "6f1cf796-85dd-4610-a199-dc666485a592",
   "metadata": {},
   "outputs": [],
   "source": []
  },
  {
   "cell_type": "code",
   "execution_count": null,
   "id": "85d000ca-20eb-4b37-b85f-4fdcef331630",
   "metadata": {},
   "outputs": [],
   "source": []
  },
  {
   "cell_type": "code",
   "execution_count": null,
   "id": "b8620f03-eabd-4c87-bc3a-1f18a27da03b",
   "metadata": {},
   "outputs": [],
   "source": []
  },
  {
   "cell_type": "code",
   "execution_count": null,
   "id": "f827283b-9100-470c-ad4f-fcdbec82e960",
   "metadata": {},
   "outputs": [],
   "source": []
  },
  {
   "cell_type": "code",
   "execution_count": null,
   "id": "896aad38-5b29-45ab-91a3-7c28518de99f",
   "metadata": {},
   "outputs": [],
   "source": []
  },
  {
   "cell_type": "code",
   "execution_count": null,
   "id": "07b5e842-e396-4895-a896-5a75006adcee",
   "metadata": {},
   "outputs": [],
   "source": []
  }
 ],
 "metadata": {
  "kernelspec": {
   "display_name": "Python 3 (ipykernel)",
   "language": "python",
   "name": "python3"
  },
  "language_info": {
   "codemirror_mode": {
    "name": "ipython",
    "version": 3
   },
   "file_extension": ".py",
   "mimetype": "text/x-python",
   "name": "python",
   "nbconvert_exporter": "python",
   "pygments_lexer": "ipython3",
   "version": "3.10.8"
  }
 },
 "nbformat": 4,
 "nbformat_minor": 5
}
