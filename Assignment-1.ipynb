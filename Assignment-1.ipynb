{
 "cells": [
  {
   "cell_type": "code",
   "execution_count": 10,
   "id": "8cb6a48c-c7b7-4bb5-bac4-d4f777aa7e51",
   "metadata": {},
   "outputs": [],
   "source": [
    "s = \"Abhay\""
   ]
  },
  {
   "cell_type": "code",
   "execution_count": 11,
   "id": "1dd1494a-cb9e-444c-89b2-6967954499b4",
   "metadata": {},
   "outputs": [
    {
     "data": {
      "text/plain": [
       "'Abhay'"
      ]
     },
     "execution_count": 11,
     "metadata": {},
     "output_type": "execute_result"
    }
   ],
   "source": [
    "s"
   ]
  },
  {
   "cell_type": "code",
   "execution_count": 12,
   "id": "09c6968c-032b-4eba-a6b1-6269f5b27213",
   "metadata": {},
   "outputs": [],
   "source": [
    "l = [1,2,3,\"PWSKILLS\",3.0,[3,2,5]]"
   ]
  },
  {
   "cell_type": "code",
   "execution_count": 13,
   "id": "6b49354a-0705-4451-8785-be84179858c7",
   "metadata": {},
   "outputs": [
    {
     "data": {
      "text/plain": [
       "[1, 2, 3, 'PWSKILLS', 3.0, [3, 2, 5]]"
      ]
     },
     "execution_count": 13,
     "metadata": {},
     "output_type": "execute_result"
    }
   ],
   "source": [
    "l"
   ]
  },
  {
   "cell_type": "code",
   "execution_count": 14,
   "id": "3bcf88f2-e5ee-43ed-aa94-4a5d314bd09c",
   "metadata": {},
   "outputs": [],
   "source": [
    "myFloat = 9.8"
   ]
  },
  {
   "cell_type": "code",
   "execution_count": 15,
   "id": "69d3f76c-439d-4cb9-8d24-cfecd9d06f6a",
   "metadata": {},
   "outputs": [
    {
     "data": {
      "text/plain": [
       "9.8"
      ]
     },
     "execution_count": 15,
     "metadata": {},
     "output_type": "execute_result"
    }
   ],
   "source": [
    "myFloat"
   ]
  },
  {
   "cell_type": "code",
   "execution_count": 16,
   "id": "ca2d2d4f-0fa0-4f7d-91d3-55099dc316d5",
   "metadata": {},
   "outputs": [],
   "source": [
    "## tuples are immutable and thus they can't be changed\n",
    "myTuple = (1,2,3,4,[2,3,4,5],\"I am a boy\")"
   ]
  },
  {
   "cell_type": "code",
   "execution_count": 17,
   "id": "507432a5-cc5a-463e-8eaa-838146496257",
   "metadata": {},
   "outputs": [
    {
     "data": {
      "text/plain": [
       "(1, 2, 3, 4, [2, 3, 4, 5], 'I am a boy')"
      ]
     },
     "execution_count": 17,
     "metadata": {},
     "output_type": "execute_result"
    }
   ],
   "source": [
    "myTuple"
   ]
  },
  {
   "cell_type": "code",
   "execution_count": 18,
   "id": "a62d2d81-ca08-445f-9d10-2ba91ca9446a",
   "metadata": {},
   "outputs": [],
   "source": [
    "## Question 2\n",
    "## (i)\n",
    "var1 = ''\n"
   ]
  },
  {
   "cell_type": "code",
   "execution_count": null,
   "id": "5dde4cd1-2643-4dcc-b379-4e054cc4ac21",
   "metadata": {},
   "outputs": [],
   "source": [
    "## (i) var1 = ‘ ‘\n",
    "## (ii) var2 = ‘[ DS , ML , Python]’\n",
    "## (iii) var3 = [ ‘DS’ , ’ML’ , ‘Python’ ]\n",
    "## (iv) var4 = 1."
   ]
  },
  {
   "cell_type": "code",
   "execution_count": 21,
   "id": "e04bb69a-d1e9-4706-8598-a950be352985",
   "metadata": {},
   "outputs": [
    {
     "data": {
      "text/plain": [
       "str"
      ]
     },
     "execution_count": 21,
     "metadata": {},
     "output_type": "execute_result"
    }
   ],
   "source": [
    "type(var1)"
   ]
  },
  {
   "cell_type": "raw",
   "id": "db062475-4567-4ab6-b170-5faee13cee45",
   "metadata": {},
   "source": []
  },
  {
   "cell_type": "code",
   "execution_count": 20,
   "id": "9c799cd4-4920-4043-8847-2616a49f7f2e",
   "metadata": {},
   "outputs": [],
   "source": [
    "var2 = '[DS, Ml ,Python]'"
   ]
  },
  {
   "cell_type": "code",
   "execution_count": 22,
   "id": "530047db-464e-4730-bdb2-a308c12c28cc",
   "metadata": {},
   "outputs": [
    {
     "data": {
      "text/plain": [
       "str"
      ]
     },
     "execution_count": 22,
     "metadata": {},
     "output_type": "execute_result"
    }
   ],
   "source": [
    "type(var2)"
   ]
  },
  {
   "cell_type": "code",
   "execution_count": 23,
   "id": "e619c8dc-c2d0-4625-b6b2-a466b3fb06f9",
   "metadata": {},
   "outputs": [],
   "source": [
    "var3 = \"['DL', 'ML', 'Python']\""
   ]
  },
  {
   "cell_type": "code",
   "execution_count": 38,
   "id": "0c2ad622-570d-4306-ab3b-650d9fe3e906",
   "metadata": {},
   "outputs": [
    {
     "data": {
      "text/plain": [
       "str"
      ]
     },
     "execution_count": 38,
     "metadata": {},
     "output_type": "execute_result"
    }
   ],
   "source": [
    "type(var3)"
   ]
  },
  {
   "cell_type": "code",
   "execution_count": 25,
   "id": "59a8104c-4fae-4e6b-83eb-ee423bbbd107",
   "metadata": {},
   "outputs": [],
   "source": [
    "## This divides the number and give ans in float values\n",
    "a = 5/4\n",
    "b = 10/2"
   ]
  },
  {
   "cell_type": "code",
   "execution_count": 26,
   "id": "bda9169f-0049-42ea-bc1d-5518f480b26e",
   "metadata": {},
   "outputs": [
    {
     "data": {
      "text/plain": [
       "1.25"
      ]
     },
     "execution_count": 26,
     "metadata": {},
     "output_type": "execute_result"
    }
   ],
   "source": [
    "a"
   ]
  },
  {
   "cell_type": "code",
   "execution_count": 27,
   "id": "4a1a15a3-a4cd-4682-88b7-8950def2ae8f",
   "metadata": {},
   "outputs": [
    {
     "data": {
      "text/plain": [
       "5.0"
      ]
     },
     "execution_count": 27,
     "metadata": {},
     "output_type": "execute_result"
    }
   ],
   "source": [
    "b"
   ]
  },
  {
   "cell_type": "code",
   "execution_count": 28,
   "id": "d4602358-1f09-4fe9-8079-f7fffbd04373",
   "metadata": {},
   "outputs": [
    {
     "data": {
      "text/plain": [
       "1"
      ]
     },
     "execution_count": 28,
     "metadata": {},
     "output_type": "execute_result"
    }
   ],
   "source": [
    "## Modulo is operated b/w two numbers and give output as remainder value\n",
    "a = 5%4\n",
    "a"
   ]
  },
  {
   "cell_type": "code",
   "execution_count": 30,
   "id": "66f20f59-07e8-4618-a8da-15ff5d58a20a",
   "metadata": {},
   "outputs": [
    {
     "data": {
      "text/plain": [
       "0.6500000000000004"
      ]
     },
     "execution_count": 30,
     "metadata": {},
     "output_type": "execute_result"
    }
   ],
   "source": [
    "5.33%2.34"
   ]
  },
  {
   "cell_type": "code",
   "execution_count": 31,
   "id": "553e2943-0c71-4dac-aefb-76f675b50b73",
   "metadata": {},
   "outputs": [
    {
     "data": {
      "text/plain": [
       "1.5"
      ]
     },
     "execution_count": 31,
     "metadata": {},
     "output_type": "execute_result"
    }
   ],
   "source": [
    "6.5%5"
   ]
  },
  {
   "cell_type": "code",
   "execution_count": 32,
   "id": "5b4373be-4763-4e05-b7fc-34def7702447",
   "metadata": {},
   "outputs": [
    {
     "data": {
      "text/plain": [
       "1"
      ]
     },
     "execution_count": 32,
     "metadata": {},
     "output_type": "execute_result"
    }
   ],
   "source": [
    "## // gives the quotient values \n",
    "5//4"
   ]
  },
  {
   "cell_type": "code",
   "execution_count": 33,
   "id": "bffe3294-95c9-44a3-976c-7162442d2efa",
   "metadata": {},
   "outputs": [
    {
     "data": {
      "text/plain": [
       "1.0"
      ]
     },
     "execution_count": 33,
     "metadata": {},
     "output_type": "execute_result"
    }
   ],
   "source": [
    "5.7//3"
   ]
  },
  {
   "cell_type": "code",
   "execution_count": 34,
   "id": "9c8c4aec-b128-4e47-b435-5c3f5ba0d583",
   "metadata": {},
   "outputs": [
    {
     "data": {
      "text/plain": [
       "9.0"
      ]
     },
     "execution_count": 34,
     "metadata": {},
     "output_type": "execute_result"
    }
   ],
   "source": [
    "4.5//0.5"
   ]
  },
  {
   "cell_type": "code",
   "execution_count": 35,
   "id": "89b70110-5967-42e0-99ab-3d4e147f29fc",
   "metadata": {},
   "outputs": [],
   "source": [
    "## ** this operator is used to set power \n",
    "a = 2.0**2\n",
    "## in this like 2.0 raise to 2"
   ]
  },
  {
   "cell_type": "code",
   "execution_count": 36,
   "id": "d2dbef8a-71fc-402e-b67c-e54ce0880e5c",
   "metadata": {},
   "outputs": [
    {
     "data": {
      "text/plain": [
       "4.0"
      ]
     },
     "execution_count": 36,
     "metadata": {},
     "output_type": "execute_result"
    }
   ],
   "source": [
    "a"
   ]
  },
  {
   "cell_type": "code",
   "execution_count": 37,
   "id": "c27f3f13-7281-4a9a-b7a5-1e77a956cde6",
   "metadata": {},
   "outputs": [
    {
     "data": {
      "text/plain": [
       "157.46400000000003"
      ]
     },
     "execution_count": 37,
     "metadata": {},
     "output_type": "execute_result"
    }
   ],
   "source": [
    "5.4**3"
   ]
  },
  {
   "cell_type": "code",
   "execution_count": 40,
   "id": "7f50e000-e679-491f-841c-075704fd3b14",
   "metadata": {},
   "outputs": [
    {
     "data": {
      "text/plain": [
       "list"
      ]
     },
     "execution_count": 40,
     "metadata": {},
     "output_type": "execute_result"
    }
   ],
   "source": [
    "## ques 29(iii)\n",
    "var3 = ['DL', 'ML', 'Python']\n",
    "type(var3)"
   ]
  },
  {
   "cell_type": "code",
   "execution_count": 41,
   "id": "642bdb60-e802-4460-a787-d3c5e19dbc45",
   "metadata": {},
   "outputs": [
    {
     "data": {
      "text/plain": [
       "int"
      ]
     },
     "execution_count": 41,
     "metadata": {},
     "output_type": "execute_result"
    }
   ],
   "source": [
    "var4 = 1 \n",
    "type(var4)"
   ]
  },
  {
   "cell_type": "code",
   "execution_count": 43,
   "id": "0aa10470-7ab7-4a7c-9a00-96f2e20b68c7",
   "metadata": {},
   "outputs": [
    {
     "name": "stdout",
     "output_type": "stream",
     "text": [
      "0   <class 'int'>\n",
      "1   <class 'int'>\n",
      "2   <class 'int'>\n",
      "3   <class 'int'>\n",
      "4   <class 'int'>\n",
      "5   <class 'int'>\n",
      "6   <class 'int'>\n",
      "7   <class 'int'>\n",
      "8   <class 'int'>\n",
      "9   <class 'int'>\n"
     ]
    }
   ],
   "source": [
    "list = [1,2.5,8.54,'876',\"PwSkills\",34,98,[2,3,4],89.09,(1,2,3)]\n",
    "i = 0 ;\n",
    "j = len(list)\n",
    "while i < j :\n",
    "    print(i,\" \",type(i))\n",
    "    i = i+1"
   ]
  },
  {
   "cell_type": "code",
   "execution_count": 49,
   "id": "7c8eb151-8a4e-4b8e-b7f7-63a95512c044",
   "metadata": {},
   "outputs": [
    {
     "name": "stdout",
     "output_type": "stream",
     "text": [
      "number A is not Divisible by B\n"
     ]
    }
   ],
   "source": [
    "## que 5 : check if a num A is purely divisible by  B or not \n",
    "A = 100 \n",
    "B = 7\n",
    "while A >= 0 :\n",
    "    if A == 0 :\n",
    "        print(\"number A is purely divilsible by B\")\n",
    "        break\n",
    "    A = A - B\n",
    "else :\n",
    "    print(\"number A is not Divisible by B\")\n",
    "    "
   ]
  },
  {
   "cell_type": "code",
   "execution_count": 50,
   "id": "62a4f10e-b396-4d29-9fef-afd33d36926e",
   "metadata": {},
   "outputs": [
    {
     "name": "stdout",
     "output_type": "stream",
     "text": [
      "number A is purely divilsible by B\n"
     ]
    }
   ],
   "source": [
    "A = 100 \n",
    "B = 5\n",
    "while A >= 0 :\n",
    "    if A == 0 :\n",
    "        print(\"number A is purely divilsible by B\")\n",
    "        break\n",
    "    A = A - B\n",
    "else :\n",
    "    print(\"number A is not Divisible by B\")"
   ]
  },
  {
   "cell_type": "code",
   "execution_count": 54,
   "id": "be2ebe0d-8f87-49b5-b28f-0423b40c0cbd",
   "metadata": {},
   "outputs": [
    {
     "name": "stdout",
     "output_type": "stream",
     "text": [
      "1 is not divisble by 3\n",
      "2 is not divisble by 3\n",
      "3  is divisible by 3\n",
      "4 is not divisble by 3\n",
      "5 is not divisble by 3\n",
      "6  is divisible by 3\n",
      "7 is not divisble by 3\n",
      "8 is not divisble by 3\n",
      "9  is divisible by 3\n",
      "10 is not divisble by 3\n",
      "11 is not divisble by 3\n",
      "12  is divisible by 3\n",
      "13 is not divisble by 3\n",
      "14 is not divisble by 3\n",
      "15  is divisible by 3\n",
      "16 is not divisble by 3\n",
      "17 is not divisble by 3\n",
      "18  is divisible by 3\n",
      "19 is not divisble by 3\n",
      "20 is not divisble by 3\n",
      "21  is divisible by 3\n",
      "22 is not divisble by 3\n",
      "23 is not divisble by 3\n",
      "24  is divisible by 3\n",
      "25 is not divisble by 3\n"
     ]
    }
   ],
   "source": [
    "list1 = [1,2,3,4,5,6,7,8,9,10,11,12,13,14,15,16,17,18,19,20,21,22,23,24,25]\n",
    "i = 0\n",
    "while i < 25 :\n",
    "    if list1[i]%3 == 0:\n",
    "        print(list1[i],\" is divisible by 3\")\n",
    "    else :\n",
    "        print(list1[i],\"is not divisble by 3\")\n",
    "    i = i+1"
   ]
  },
  {
   "cell_type": "code",
   "execution_count": 55,
   "id": "e2256774-ccc3-4da2-80a0-4cb17be0adad",
   "metadata": {},
   "outputs": [
    {
     "data": {
      "text/plain": [
       "'P'"
      ]
     },
     "execution_count": 55,
     "metadata": {},
     "output_type": "execute_result"
    }
   ],
   "source": [
    "## Imuutable object means that at a particular index new value can't be assigned\n",
    "## ex : strings, tuples\n",
    "st = 'PwSkils'\n",
    "st[0]"
   ]
  },
  {
   "cell_type": "code",
   "execution_count": 57,
   "id": "8f8f1b56-eb3c-43d4-b12a-198aa218c193",
   "metadata": {},
   "outputs": [
    {
     "ename": "TypeError",
     "evalue": "'str' object does not support item assignment",
     "output_type": "error",
     "traceback": [
      "\u001b[0;31m---------------------------------------------------------------------------\u001b[0m",
      "\u001b[0;31mTypeError\u001b[0m                                 Traceback (most recent call last)",
      "Cell \u001b[0;32mIn[57], line 1\u001b[0m\n\u001b[0;32m----> 1\u001b[0m \u001b[43mst\u001b[49m\u001b[43m[\u001b[49m\u001b[38;5;241;43m0\u001b[39;49m\u001b[43m]\u001b[49m \u001b[38;5;241m=\u001b[39m \u001b[38;5;124m'\u001b[39m\u001b[38;5;124mA\u001b[39m\u001b[38;5;124m'\u001b[39m\n",
      "\u001b[0;31mTypeError\u001b[0m: 'str' object does not support item assignment"
     ]
    }
   ],
   "source": [
    "st[0] = 'A'"
   ]
  },
  {
   "cell_type": "code",
   "execution_count": 58,
   "id": "9ab52182-aad6-497c-a7dd-3c07a24aa8d7",
   "metadata": {},
   "outputs": [
    {
     "data": {
      "text/plain": [
       "[1, 2, 'Abhay', 4.0, (5+7j)]"
      ]
     },
     "execution_count": 58,
     "metadata": {},
     "output_type": "execute_result"
    }
   ],
   "source": [
    "## while in Mutable value at any index can be updated\n",
    "l3 = [1,2,\"Abhay\",4.0,5+7j]\n",
    "l3"
   ]
  },
  {
   "cell_type": "code",
   "execution_count": 61,
   "id": "84a2e9ae-a163-4965-b8b9-9300a39c9875",
   "metadata": {},
   "outputs": [
    {
     "data": {
      "text/plain": [
       "[100, 2, 'Abhay', 4.0, (5+7j)]"
      ]
     },
     "execution_count": 61,
     "metadata": {},
     "output_type": "execute_result"
    }
   ],
   "source": [
    "l3[0] = 100\n",
    "l3\n",
    "## 1 will update to 100"
   ]
  },
  {
   "cell_type": "code",
   "execution_count": 62,
   "id": "41003db6-226a-4c47-8784-f990c952d6c8",
   "metadata": {},
   "outputs": [
    {
     "data": {
      "text/plain": [
       "[100, 2, 34, 4.0, (5+7j)]"
      ]
     },
     "execution_count": 62,
     "metadata": {},
     "output_type": "execute_result"
    }
   ],
   "source": [
    "l3[2] = 34\n",
    "l3\n",
    "## even string can be changed to integer float tuple list and other string"
   ]
  },
  {
   "cell_type": "code",
   "execution_count": 63,
   "id": "610a0c9c-98cf-4fce-9c89-6276c6614e46",
   "metadata": {},
   "outputs": [
    {
     "data": {
      "text/plain": [
       "[100, 2, 34, 4.0, (1+2j)]"
      ]
     },
     "execution_count": 63,
     "metadata": {},
     "output_type": "execute_result"
    }
   ],
   "source": [
    "l3[4] = 1+2j\n",
    "l3"
   ]
  }
 ],
 "metadata": {
  "kernelspec": {
   "display_name": "Python 3 (ipykernel)",
   "language": "python",
   "name": "python3"
  },
  "language_info": {
   "codemirror_mode": {
    "name": "ipython",
    "version": 3
   },
   "file_extension": ".py",
   "mimetype": "text/x-python",
   "name": "python",
   "nbconvert_exporter": "python",
   "pygments_lexer": "ipython3",
   "version": "3.10.8"
  }
 },
 "nbformat": 4,
 "nbformat_minor": 5
}
