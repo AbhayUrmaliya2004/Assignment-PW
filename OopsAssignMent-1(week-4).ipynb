{
 "cells": [
  {
   "cell_type": "code",
   "execution_count": 3,
   "id": "406e99d1-74a6-45ff-bdf9-af12bf5a5ea1",
   "metadata": {},
   "outputs": [],
   "source": [
    "#Que(1):-\n",
    "var = '''Objects are the real world entities which have some functions\n",
    "   while classes are the blueprint of those real world entities(object).\n",
    "   ->   This can be understood by an easy example like there classes can \n",
    "   be understood by vehicle and vehicle can be of many types like car, bus,\n",
    "   truck, motorcycle etc. which can be considered as object.\n",
    "   '''"
   ]
  },
  {
   "cell_type": "code",
   "execution_count": 4,
   "id": "43a8805a-1c62-4a0f-aa7c-5731b2ef9795",
   "metadata": {},
   "outputs": [],
   "source": [
    "#Que(2):-\n",
    "var2 = '''Four pillars of the object oriented programming are :-\n",
    "          1. Encapsulation - wrapping of data into classes and objects\n",
    "          2. Abstraction - hiding the necessary data \n",
    "          3. Inheritance - Inheriting property of one class to another\n",
    "          4. Polymorphism - \"poly\" means many and \"morph\" means forms, so same action\n",
    "                             is done in multiple ways'''"
   ]
  },
  {
   "cell_type": "code",
   "execution_count": 5,
   "id": "34b98a7e-ff0a-46bd-a298-d175202a4a75",
   "metadata": {},
   "outputs": [],
   "source": [
    "#Que(3):-\n",
    "var3 = ''' __init__() function is a constructor, it is the method called first when an object is created \n",
    "          .This is basically used to pass argument to an object. '''\n",
    "class test_class_A:\n",
    "    \n",
    "    def __init__(self,something):\n",
    "        print(\"test class A is called\")\n",
    "        self.something = something\n",
    "    \n",
    "class test_class_B(test_class_A):\n",
    "    \n",
    "    def __init__(self, something):\n",
    "        print(\"test class B is called\")\n",
    "        self.something = something "
   ]
  },
  {
   "cell_type": "code",
   "execution_count": 6,
   "id": "d929127e-934b-448b-b4d8-af8aa827a828",
   "metadata": {},
   "outputs": [
    {
     "name": "stdout",
     "output_type": "stream",
     "text": [
      "test class A is called\n"
     ]
    }
   ],
   "source": [
    "test_obj1 = test_class_A(\"This is something iinside class A\")"
   ]
  },
  {
   "cell_type": "code",
   "execution_count": 7,
   "id": "2a669173-7dc5-4689-94b3-d89accfa91c9",
   "metadata": {},
   "outputs": [
    {
     "name": "stdout",
     "output_type": "stream",
     "text": [
      "test class B is called\n"
     ]
    }
   ],
   "source": [
    "test_obj2 = test_class_B(\"This is something inside class B\")"
   ]
  },
  {
   "cell_type": "code",
   "execution_count": 8,
   "id": "8cc86c2a-fccf-4f3b-b2a2-96974b5ca857",
   "metadata": {},
   "outputs": [
    {
     "data": {
      "text/plain": [
       "'This is something iinside class A'"
      ]
     },
     "execution_count": 8,
     "metadata": {},
     "output_type": "execute_result"
    }
   ],
   "source": [
    "test_obj1.something"
   ]
  },
  {
   "cell_type": "code",
   "execution_count": 9,
   "id": "33a4f56e-7e61-4624-b96f-71a59357b52d",
   "metadata": {},
   "outputs": [
    {
     "data": {
      "text/plain": [
       "'This is something inside class B'"
      ]
     },
     "execution_count": 9,
     "metadata": {},
     "output_type": "execute_result"
    }
   ],
   "source": [
    "test_obj2.something"
   ]
  },
  {
   "cell_type": "code",
   "execution_count": 10,
   "id": "a3e9ba12-9ccf-4f03-abe7-1c9503ddefdb",
   "metadata": {},
   "outputs": [],
   "source": [
    "# Que(4):-\n",
    "var4 = '''self represents the instance of a class and it is used to point instance.\n",
    "          in the previous quesion it ca be seen that \"self\" was used to bind attribute of \n",
    "          a class with it '''"
   ]
  },
  {
   "cell_type": "code",
   "execution_count": 11,
   "id": "220368bd-3b11-4cea-ad2c-4d362f01805a",
   "metadata": {},
   "outputs": [],
   "source": [
    "#Que(5):-\n",
    "var5 = '''Inheritance is defined as the mechanism of inheriting the property of an base\n",
    "          class to its child class'''"
   ]
  },
  {
   "cell_type": "code",
   "execution_count": 12,
   "id": "323d5ee7-15b1-4ac5-ba76-03ae59435613",
   "metadata": {},
   "outputs": [],
   "source": [
    "# (a):- Single Inheritance \n",
    "class Mammal:\n",
    "    info1 = \"can feed thier young ones\"\n",
    "    def __init__(self):\n",
    "        pass\n",
    "     \n",
    "    def get_info(self):\n",
    "        return self.info\n",
    "# Here, human class is inhereting properties of mammal class\n",
    "class Human(Mammal):\n",
    "    def __init__(self):\n",
    "        self.info = \"These are the most talented mammal\""
   ]
  },
  {
   "cell_type": "code",
   "execution_count": 13,
   "id": "94a95634-f7db-4a6f-80d9-e2dcdd560014",
   "metadata": {},
   "outputs": [],
   "source": [
    "human = Human()"
   ]
  },
  {
   "cell_type": "code",
   "execution_count": 14,
   "id": "e39205f6-8fc6-432e-a9c6-f8af2bc3470a",
   "metadata": {},
   "outputs": [
    {
     "data": {
      "text/plain": [
       "'These are the most talented mammal'"
      ]
     },
     "execution_count": 14,
     "metadata": {},
     "output_type": "execute_result"
    }
   ],
   "source": [
    "human.info"
   ]
  },
  {
   "cell_type": "code",
   "execution_count": 15,
   "id": "96886a45-01d7-42e5-ae00-1ffb805d6346",
   "metadata": {},
   "outputs": [
    {
     "data": {
      "text/plain": [
       "'These are the most talented mammal'"
      ]
     },
     "execution_count": 15,
     "metadata": {},
     "output_type": "execute_result"
    }
   ],
   "source": [
    "human.get_info()"
   ]
  },
  {
   "cell_type": "code",
   "execution_count": 16,
   "id": "532cf739-6ddc-4673-8835-41bb7e9c64f5",
   "metadata": {},
   "outputs": [
    {
     "data": {
      "text/plain": [
       "'These are the most talented mammal'"
      ]
     },
     "execution_count": 16,
     "metadata": {},
     "output_type": "execute_result"
    }
   ],
   "source": [
    "human.info"
   ]
  },
  {
   "cell_type": "code",
   "execution_count": 17,
   "id": "62853143-d84c-4188-9b14-de8e8d824b51",
   "metadata": {},
   "outputs": [
    {
     "data": {
      "text/plain": [
       "'can feed thier young ones'"
      ]
     },
     "execution_count": 17,
     "metadata": {},
     "output_type": "execute_result"
    }
   ],
   "source": [
    "human.info1"
   ]
  },
  {
   "cell_type": "code",
   "execution_count": 19,
   "id": "e07be0bb-1d35-4044-a9f3-ec884f329709",
   "metadata": {},
   "outputs": [],
   "source": [
    "#(b):- Mutiple Inheritance\n",
    "class father:\n",
    "    def __init__(self):\n",
    "        pass\n",
    "    def drive(self):\n",
    "        print(\"can drive car\")\n",
    "        \n",
    "class mother:\n",
    "    def __init__(self):\n",
    "        pass\n",
    "    def sing(self):\n",
    "        print(\"can sing beautifully\")"
   ]
  },
  {
   "cell_type": "code",
   "execution_count": 20,
   "id": "b9d6fd92-dc47-4949-81be-627f657283ff",
   "metadata": {},
   "outputs": [],
   "source": [
    "class child(mother,father):\n",
    "    def __init__(self):\n",
    "        pass"
   ]
  },
  {
   "cell_type": "code",
   "execution_count": 21,
   "id": "a5b3ba0c-44d3-40b3-a2d6-00ce2d0b0ee8",
   "metadata": {},
   "outputs": [],
   "source": [
    "ram = child()"
   ]
  },
  {
   "cell_type": "code",
   "execution_count": 22,
   "id": "a5eb4a84-7512-4201-8f48-39c5502c9295",
   "metadata": {},
   "outputs": [
    {
     "name": "stdout",
     "output_type": "stream",
     "text": [
      "can drive car\n"
     ]
    }
   ],
   "source": [
    "ram.drive()"
   ]
  },
  {
   "cell_type": "code",
   "execution_count": 23,
   "id": "8492741b-b07a-4550-a82a-b12dc1551b36",
   "metadata": {},
   "outputs": [
    {
     "name": "stdout",
     "output_type": "stream",
     "text": [
      "can sing beautifully\n"
     ]
    }
   ],
   "source": [
    "ram.sing()"
   ]
  },
  {
   "cell_type": "code",
   "execution_count": 24,
   "id": "8a47b80c-0ab1-47ae-bc84-0b1604c4e807",
   "metadata": {},
   "outputs": [],
   "source": [
    "# (c)Multi level inheritance \n",
    "class grandfather:\n",
    "    \n",
    "    def __init__(self):\n",
    "        pass\n",
    "    def travel_by_foot(self):\n",
    "        return \"in my grandfather times, people used to walk\"\n",
    "    \n",
    "class father1(grandfather):\n",
    "    \n",
    "    def __init__(self):\n",
    "        pass\n",
    "    def earning(self):\n",
    "        return \"earn a lakh monthly\"\n",
    "    \n",
    "class child1(father1):\n",
    "    \n",
    "    def __init__(self):\n",
    "        pass\n",
    "    \n",
    "    def play(self):\n",
    "        return \"play cricket\""
   ]
  },
  {
   "cell_type": "code",
   "execution_count": 25,
   "id": "99887dff-6c57-4f6b-9b5a-5d658555e437",
   "metadata": {},
   "outputs": [],
   "source": [
    "rahul = child1()"
   ]
  },
  {
   "cell_type": "code",
   "execution_count": 26,
   "id": "2201ea35-4afc-491c-af96-d77bcc355cf2",
   "metadata": {},
   "outputs": [
    {
     "data": {
      "text/plain": [
       "'earn a lakh monthly'"
      ]
     },
     "execution_count": 26,
     "metadata": {},
     "output_type": "execute_result"
    }
   ],
   "source": [
    "rahul.earning()"
   ]
  },
  {
   "cell_type": "code",
   "execution_count": 27,
   "id": "8a7c3b65-f450-42fb-9a7f-c6c4343ce718",
   "metadata": {},
   "outputs": [
    {
     "data": {
      "text/plain": [
       "'play cricket'"
      ]
     },
     "execution_count": 27,
     "metadata": {},
     "output_type": "execute_result"
    }
   ],
   "source": [
    "rahul.play()"
   ]
  },
  {
   "cell_type": "code",
   "execution_count": 28,
   "id": "af38d054-9113-4015-b54a-644853be7437",
   "metadata": {},
   "outputs": [
    {
     "data": {
      "text/plain": [
       "'in my grandfather times, people used to walk'"
      ]
     },
     "execution_count": 28,
     "metadata": {},
     "output_type": "execute_result"
    }
   ],
   "source": [
    "rahul.travel_by_foot()"
   ]
  },
  {
   "cell_type": "code",
   "execution_count": 37,
   "id": "5d1826d9-d281-4282-a02d-483cf3984136",
   "metadata": {},
   "outputs": [],
   "source": [
    "# (d) hierarchial inheritance\n",
    "class testA:\n",
    "    def __init__(self):\n",
    "        print(\"this is class testA\")\n",
    "        pass\n",
    "    \n",
    "    def say_hi(self):\n",
    "        return \"Say, Hii !!!!\"\n",
    "    \n",
    "class testB(testA):\n",
    "    \n",
    "    def __init__(self):\n",
    "        print(\"This is class testb\")\n",
    "        pass\n",
    "    \n",
    "    def getB(self):\n",
    "        return \"Hi, you are in getB function of class testB\"\n",
    "    \n",
    "    \n",
    "class testC(testA):\n",
    "    \n",
    "    def __init__(self):\n",
    "        print(\"This is class testC\")\n",
    "        pass\n",
    "    \n",
    "    def getC(self):\n",
    "        return \"Hi, you are in getC function of classC \""
   ]
  },
  {
   "cell_type": "code",
   "execution_count": 38,
   "id": "608fb092-f09e-41cb-ab25-7ac16406f734",
   "metadata": {},
   "outputs": [
    {
     "name": "stdout",
     "output_type": "stream",
     "text": [
      "this is class testA\n",
      "This is class testb\n",
      "This is class testC\n"
     ]
    }
   ],
   "source": [
    "objA = testA()\n",
    "objB = testB()\n",
    "objC = testC()"
   ]
  },
  {
   "cell_type": "code",
   "execution_count": 39,
   "id": "c65b6c8f-3233-4a2d-b166-9569414a736f",
   "metadata": {},
   "outputs": [
    {
     "data": {
      "text/plain": [
       "'Say, Hii !!!!'"
      ]
     },
     "execution_count": 39,
     "metadata": {},
     "output_type": "execute_result"
    }
   ],
   "source": [
    "objB.say_hi()"
   ]
  },
  {
   "cell_type": "code",
   "execution_count": 40,
   "id": "930d66fe-b237-43ba-9608-dbdb1b1fef33",
   "metadata": {},
   "outputs": [
    {
     "data": {
      "text/plain": [
       "'Say, Hii !!!!'"
      ]
     },
     "execution_count": 40,
     "metadata": {},
     "output_type": "execute_result"
    }
   ],
   "source": [
    "objC.say_hi()"
   ]
  },
  {
   "cell_type": "code",
   "execution_count": 41,
   "id": "be530556-6c3b-4647-89aa-a634c3b3fd47",
   "metadata": {},
   "outputs": [],
   "source": [
    "# here, in this example A-->B  & A-->C\n",
    "# A and B are not related "
   ]
  },
  {
   "cell_type": "code",
   "execution_count": 47,
   "id": "d52e9ef7-576c-4317-82a1-d8b89e529a86",
   "metadata": {},
   "outputs": [],
   "source": [
    "#(e): Hybrid Inheritance\n",
    "class testD(testB, testC):\n",
    "    def __init__(self):\n",
    "        pass"
   ]
  },
  {
   "cell_type": "code",
   "execution_count": 50,
   "id": "407d8344-8969-4837-92e0-c72cd73b1422",
   "metadata": {},
   "outputs": [],
   "source": [
    "test_obj = testD()"
   ]
  },
  {
   "cell_type": "code",
   "execution_count": 52,
   "id": "715a521a-7b7d-4359-a7d5-5fd1c1b17e55",
   "metadata": {},
   "outputs": [
    {
     "data": {
      "text/plain": [
       "'Hi, you are in getB function of class testB'"
      ]
     },
     "execution_count": 52,
     "metadata": {},
     "output_type": "execute_result"
    }
   ],
   "source": [
    "test_obj.getB()"
   ]
  },
  {
   "cell_type": "code",
   "execution_count": 53,
   "id": "438c3a9b-8d86-4b6d-aad5-f50d92815bae",
   "metadata": {},
   "outputs": [
    {
     "data": {
      "text/plain": [
       "'Hi, you are in getC function of classC '"
      ]
     },
     "execution_count": 53,
     "metadata": {},
     "output_type": "execute_result"
    }
   ],
   "source": [
    "test_obj.getC()"
   ]
  },
  {
   "cell_type": "code",
   "execution_count": 54,
   "id": "445aa488-7cd9-4b1f-8fa8-a9ee0a376e52",
   "metadata": {},
   "outputs": [
    {
     "data": {
      "text/plain": [
       "'Say, Hii !!!!'"
      ]
     },
     "execution_count": 54,
     "metadata": {},
     "output_type": "execute_result"
    }
   ],
   "source": [
    "test_obj.say_hi()"
   ]
  },
  {
   "cell_type": "code",
   "execution_count": null,
   "id": "18bd7760-d48b-4d87-b17b-bcadbd924125",
   "metadata": {},
   "outputs": [],
   "source": [
    "# This was the example of hybrid inheritance \n",
    "# where A-->B & "
   ]
  }
 ],
 "metadata": {
  "kernelspec": {
   "display_name": "Python 3 (ipykernel)",
   "language": "python",
   "name": "python3"
  },
  "language_info": {
   "codemirror_mode": {
    "name": "ipython",
    "version": 3
   },
   "file_extension": ".py",
   "mimetype": "text/x-python",
   "name": "python",
   "nbconvert_exporter": "python",
   "pygments_lexer": "ipython3",
   "version": "3.10.8"
  }
 },
 "nbformat": 4,
 "nbformat_minor": 5
}
