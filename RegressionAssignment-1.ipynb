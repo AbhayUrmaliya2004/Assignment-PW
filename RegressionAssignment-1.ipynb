{
 "cells": [
  {
   "cell_type": "markdown",
   "id": "ff66507e-fb2b-447b-b06c-8d46f822b7f8",
   "metadata": {},
   "source": [
    "# Q1. Explain the difference between simple linear regression and multiple linear regression. Provide an example of each."
   ]
  },
  {
   "cell_type": "markdown",
   "id": "49f9b709-48bb-4397-bf35-0153572a3c62",
   "metadata": {},
   "source": [
    "simple linear regression basically means having one independent and dependent feature \n",
    "The relationship between the independent variable and the dependent variable is assumed to be linear,\n",
    "meaning it can be represented by a straight line.\n",
    "y = mx+c , where m is slope and c is intercept \n",
    "\n",
    "While, In multiple linear regression, there are two or more independent variables that are used to predict the dependent variable. The relationship between the independent variables and the dependent variable is assumed to be linear.\n",
    "y = b0 + b1x1 + b2x2 + ......, b0 is intercept and b1, b2, b3,..... are slopes "
   ]
  },
  {
   "cell_type": "markdown",
   "id": "5b880590-8acf-4d28-bc1c-065fd259cfed",
   "metadata": {},
   "source": [
    "# Q2. Discuss the assumptions of linear regression. How can you check whether these assumptions hold in a given dataset?"
   ]
  },
  {
   "cell_type": "markdown",
   "id": "ce737798-2469-415c-8bf5-7a21ae1ca2bf",
   "metadata": {},
   "source": [
    "The relationship between the independent variables and the dependent variable should be linear. \n",
    "The variance of the errors (residuals) should be constant across all levels of the independent variables.\n",
    "In multiple linear regression, the independent variables should not be highly correlated with each other. High correlation between independent variables can cause issues with estimating the coefficients accurately.\n",
    "\n",
    "for checking the assumptions :- Analyzing the residuals by plotting them against the predicted values or against each independent variable can help detect violations of assumptions such as linearity, normality."
   ]
  },
  {
   "cell_type": "markdown",
   "id": "c983ddc1-3f33-4d2d-b90d-2dcf2f94a0f6",
   "metadata": {},
   "source": [
    "# Q3. How do you interpret the slope and intercept in a linear regression model? Provide an example using a real-world scenario."
   ]
  },
  {
   "cell_type": "markdown",
   "id": "a7c2012d-668b-4b8e-813f-b141785da403",
   "metadata": {},
   "source": [
    "In a linear regression model of the form y = mx+c , the slope m represents the change in the dependent variable y for a one-unit change in the independent variable. The inercept c represents the value of the dependent variable when the independent variable is zero.\n",
    "\n",
    "Scenario: Suppose we want to predict the sales of a product based on the amount spent on advertising. We collect data on advertising expenditures and corresponding sales over a period of time and fit a linear regression model to the data."
   ]
  },
  {
   "cell_type": "markdown",
   "id": "17daa53c-dbd9-424d-903d-7240a41b8f60",
   "metadata": {},
   "source": [
    "# Q4. Explain the concept of gradient descent. How is it used in machine learning?"
   ]
  },
  {
   "cell_type": "markdown",
   "id": "3f5cb129-2087-4ea4-ad0d-ff023519923a",
   "metadata": {},
   "source": [
    "Gradient descent is an optimization algorithm used in machine learning to minimize the cost function by iteratively adjusting the model parameters in the direction that reduces the cost. It works by computing the gradient of the cost function with respect to each parameter and updating the parameters in small steps.  "
   ]
  },
  {
   "cell_type": "markdown",
   "id": "2000bb0c-f67c-4167-be38-5521fa4241d0",
   "metadata": {},
   "source": [
    "# Q5. Describe the multiple linear regression model. How does it differ from simple linear regression?"
   ]
  },
  {
   "cell_type": "markdown",
   "id": "ea4a7320-31fb-4bc4-b25f-a0434c7168a8",
   "metadata": {},
   "source": [
    "In simple words, I have explained earlier in question 1 that multiple linear regression model has more than '\n",
    "one independent features and one dependent feature \n",
    "while simple linear regresion model has both one independent and dependent features "
   ]
  },
  {
   "cell_type": "markdown",
   "id": "a96b2c02-6a2a-4c4c-afa3-e3ac4eceff4d",
   "metadata": {},
   "source": [
    "# Q6. Explain the concept of multicollinearity in multiple linear regression. How can you detect and address this issue?"
   ]
  },
  {
   "cell_type": "markdown",
   "id": "fbe52c3e-22c5-430c-aede-20b4116de609",
   "metadata": {},
   "source": [
    "Multicollinearity refers to the situation in multiple linear regression where two or more independent variables are highly correlated with each other. This can cause problems in the regression analysis because it can be difficult to separate out the individual effects of the correlated variables on the dependent variable. Multicollinearity does not affect the overall predictive power of the model, but it can lead to unstable estimates of the coefficients and inflated standard errors, making the interpretation of the coefficients unreliable.\n",
    "\n",
    "Correlation Matrix :- correlation matrix can be used to detect multicollinearity, and to address this issue we can remove \n",
    "the highly correlated features which have more correlation than described by SPECIALIST "
   ]
  },
  {
   "cell_type": "markdown",
   "id": "e39f702f-4b73-4cc1-9044-030d24965231",
   "metadata": {},
   "source": [
    "# Describe the polynomial regression model. How is it different from linear regression?"
   ]
  },
  {
   "cell_type": "markdown",
   "id": "1a4c7b7a-e25b-4748-a70e-354f6db60967",
   "metadata": {},
   "source": [
    "In polynomial regression, the relationship between the independent and dependent variables is modeled as an nth-degree polynomial curve.The equation includes polynomial terms of the independent variable up to the nth degree, allowing for more flexible modeling of non-linear relationships.\n",
    "\n",
    " Y = ao + a1x1 + a2*x1*x1 + a3*x1*x1*x1 + ............\n",
    " where a0, a1, a2 a3 are coefficient "
   ]
  },
  {
   "cell_type": "markdown",
   "id": "44095cd5-1198-488c-9dbc-2af80725048f",
   "metadata": {},
   "source": [
    " # Q8. What are the advantages and disadvantages of polynomial regression compared to linear regression? In what situations would you prefer to use polynomial regression?"
   ]
  },
  {
   "cell_type": "markdown",
   "id": "b36f0e13-3e56-4b3c-a0d2-81dac29dc200",
   "metadata": {},
   "source": [
    "Advantages :- \n",
    "-> Polynomial regression can capture non-linear relationships between the independent and dependent variables more accurately than linear regression. This flexibility allows for better modeling of complex data patterns.\n",
    "-> By introducing higher-order polynomial terms, polynomial regression can better fit the data, especially when the relationship between variables is non-linear.\n",
    "-> Unlike linear regression, polynomial regression does not assume a linear relationship between the independent and dependent variables, making it suitable for modeling non-linear relationships.\n",
    "\n",
    "Disadvantages :- \n",
    "-> As the degree of the polynomial increases, the model becomes more complex and may overfit the training data, capturing noise rather than the underlying pattern. Careful selection of the polynomial degree and regularization techniques are needed to mitigate this issue.\n",
    "->  Polynomial regression models with higher-degree polynomials can be challenging to interpret."
   ]
  },
  {
   "cell_type": "code",
   "execution_count": 4,
   "id": "c7019047-6234-4afd-ba74-af563d8e9fcd",
   "metadata": {},
   "outputs": [
    {
     "data": {
      "text/plain": [
       "' THANK YOU '"
      ]
     },
     "execution_count": 4,
     "metadata": {},
     "output_type": "execute_result"
    }
   ],
   "source": [
    "''' THANK YOU '''"
   ]
  },
  {
   "cell_type": "code",
   "execution_count": null,
   "id": "c6ca6b8b-06aa-466c-819e-7dc152c9d55b",
   "metadata": {},
   "outputs": [],
   "source": []
  }
 ],
 "metadata": {
  "kernelspec": {
   "display_name": "Python 3 (ipykernel)",
   "language": "python",
   "name": "python3"
  },
  "language_info": {
   "codemirror_mode": {
    "name": "ipython",
    "version": 3
   },
   "file_extension": ".py",
   "mimetype": "text/x-python",
   "name": "python",
   "nbconvert_exporter": "python",
   "pygments_lexer": "ipython3",
   "version": "3.10.8"
  }
 },
 "nbformat": 4,
 "nbformat_minor": 5
}
