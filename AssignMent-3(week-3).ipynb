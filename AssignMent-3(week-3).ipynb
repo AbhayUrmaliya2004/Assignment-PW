{
 "cells": [
  {
   "cell_type": "code",
   "execution_count": 1,
   "id": "4e63d192-f0e1-48f6-a938-2e33634022c5",
   "metadata": {},
   "outputs": [],
   "source": [
    "# Que-1 :\n",
    "# 'def' keyword is used to create a function.\n",
    "\n",
    "def odd_numbers(x,y,l) :\n",
    "    for i in range (x,y+1):\n",
    "        if i%2 != 0 :\n",
    "            l.append(i)\n",
    "    return l"
   ]
  },
  {
   "cell_type": "code",
   "execution_count": 2,
   "id": "a3fd1449-4c71-456c-af7b-bea9ce9598a7",
   "metadata": {},
   "outputs": [
    {
     "data": {
      "text/plain": [
       "[1, 3, 5, 7, 9, 11, 13, 15, 17, 19, 21, 23, 25]"
      ]
     },
     "execution_count": 2,
     "metadata": {},
     "output_type": "execute_result"
    }
   ],
   "source": [
    "# odd_numbers() function take 3 args 'x'--> lower limit,'y'--> upper limit and also list\n",
    "# in which user want to add odd numbers in the range from x to y\n",
    "l1 = []\n",
    "odd_numbers(1,25,l1)"
   ]
  },
  {
   "cell_type": "code",
   "execution_count": 3,
   "id": "442a4ed2-ba99-4286-b31d-1aeaa0e6960c",
   "metadata": {},
   "outputs": [],
   "source": [
    "# Que-2 :\n",
    "# ans :- *args(args is not keyword can be changed) is used to take multiple input from the user \n",
    "def add_numbers(*args):\n",
    "    sum = 0 \n",
    "    for i in args :\n",
    "        sum += i\n",
    "    print(\"sum of numbers is \",sum)"
   ]
  },
  {
   "cell_type": "code",
   "execution_count": 4,
   "id": "a96c75e6-af00-4f98-9f20-fe0e9942f870",
   "metadata": {},
   "outputs": [
    {
     "name": "stdout",
     "output_type": "stream",
     "text": [
      "sum of numbers is  55\n"
     ]
    }
   ],
   "source": [
    "add_numbers(1,2,3,4,5,6,7,8,9,10)"
   ]
  },
  {
   "cell_type": "code",
   "execution_count": 6,
   "id": "78088cf2-e46b-47f0-84bb-d75e511948f6",
   "metadata": {},
   "outputs": [],
   "source": [
    "# while (double *) is used to take input in the form  of key value mapping pair\n",
    "def student( **kwargs ):\n",
    "    return kwargs "
   ]
  },
  {
   "cell_type": "code",
   "execution_count": 9,
   "id": "f97a60ca-bb99-4c77-ab8f-b9f3f0a950ef",
   "metadata": {},
   "outputs": [
    {
     "data": {
      "text/plain": [
       "{'abhay': 18, 'aryan': 17, 'adarsh': 17, 'l': [1, 2, 3, 4]}"
      ]
     },
     "execution_count": 9,
     "metadata": {},
     "output_type": "execute_result"
    }
   ],
   "source": [
    "student(abhay = 18, aryan = 17,adarsh = 17,l = [1,2,3,4])"
   ]
  },
  {
   "cell_type": "code",
   "execution_count": 10,
   "id": "8bc45da4-b186-4f20-87ee-f048042edde3",
   "metadata": {},
   "outputs": [
    {
     "data": {
      "text/plain": [
       "[2, 4, 6, 8, 10]"
      ]
     },
     "execution_count": 10,
     "metadata": {},
     "output_type": "execute_result"
    }
   ],
   "source": [
    "# Que 3 :-\n",
    "# ans :- Iterator is used to iterate over any iterable collection\n",
    "l = [2,4,6,8,10,12,14,16,18,20]\n",
    "l[0:5]\n",
    "# either slicing or looping can be used to iterate over different elements "
   ]
  },
  {
   "cell_type": "code",
   "execution_count": 11,
   "id": "14262789-2d2d-4f22-8b8e-d5c58dd2f586",
   "metadata": {},
   "outputs": [],
   "source": [
    "# Que 4 :-\n",
    "# ans :- generator function is used to generate inatantaneous value without storing it \n",
    "# 'yield' keyword is used to generate values instantaneously without storing it \n",
    "def fibonacci(a,b,x):\n",
    "    for i in range(x):\n",
    "        yield a\n",
    "        a,b = b,a+b"
   ]
  },
  {
   "cell_type": "code",
   "execution_count": 15,
   "id": "8897e1dd-9784-49b3-8254-e8bf017ad0e9",
   "metadata": {},
   "outputs": [
    {
     "data": {
      "text/plain": [
       "[1, 1, 2, 3, 5]"
      ]
     },
     "execution_count": 15,
     "metadata": {},
     "output_type": "execute_result"
    }
   ],
   "source": [
    "list(fibonacci(1,1,5))"
   ]
  },
  {
   "cell_type": "code",
   "execution_count": 64,
   "id": "bce7a227-02b7-4eec-bd1a-d5249ec565ae",
   "metadata": {},
   "outputs": [],
   "source": [
    "def prime(x):\n",
    "    for i in range(2,x):\n",
    "        if isPrime(i) == True :\n",
    "            yield i \n",
    "            \n",
    "def isPrime(n):\n",
    "    if n == 2 :\n",
    "        return True ;\n",
    "    for i in range(2,int(n/2)+1):\n",
    "        if n%i == 0 :\n",
    "            return False \n",
    "    return True "
   ]
  },
  {
   "cell_type": "code",
   "execution_count": 65,
   "id": "74e6072a-9bb6-4d31-88ea-68a29555bce8",
   "metadata": {},
   "outputs": [],
   "source": [
    " l5 = list(prime(1000))"
   ]
  },
  {
   "cell_type": "code",
   "execution_count": 66,
   "id": "5c367342-785f-444c-ab49-52eb5598217d",
   "metadata": {},
   "outputs": [
    {
     "data": {
      "text/plain": [
       "[2,\n",
       " 3,\n",
       " 5,\n",
       " 7,\n",
       " 11,\n",
       " 13,\n",
       " 17,\n",
       " 19,\n",
       " 23,\n",
       " 29,\n",
       " 31,\n",
       " 37,\n",
       " 41,\n",
       " 43,\n",
       " 47,\n",
       " 53,\n",
       " 59,\n",
       " 61,\n",
       " 67,\n",
       " 71,\n",
       " 73,\n",
       " 79,\n",
       " 83,\n",
       " 89,\n",
       " 97,\n",
       " 101,\n",
       " 103,\n",
       " 107,\n",
       " 109,\n",
       " 113,\n",
       " 127,\n",
       " 131,\n",
       " 137,\n",
       " 139,\n",
       " 149,\n",
       " 151,\n",
       " 157,\n",
       " 163,\n",
       " 167,\n",
       " 173,\n",
       " 179,\n",
       " 181,\n",
       " 191,\n",
       " 193,\n",
       " 197,\n",
       " 199,\n",
       " 211,\n",
       " 223,\n",
       " 227,\n",
       " 229,\n",
       " 233,\n",
       " 239,\n",
       " 241,\n",
       " 251,\n",
       " 257,\n",
       " 263,\n",
       " 269,\n",
       " 271,\n",
       " 277,\n",
       " 281,\n",
       " 283,\n",
       " 293,\n",
       " 307,\n",
       " 311,\n",
       " 313,\n",
       " 317,\n",
       " 331,\n",
       " 337,\n",
       " 347,\n",
       " 349,\n",
       " 353,\n",
       " 359,\n",
       " 367,\n",
       " 373,\n",
       " 379,\n",
       " 383,\n",
       " 389,\n",
       " 397,\n",
       " 401,\n",
       " 409,\n",
       " 419,\n",
       " 421,\n",
       " 431,\n",
       " 433,\n",
       " 439,\n",
       " 443,\n",
       " 449,\n",
       " 457,\n",
       " 461,\n",
       " 463,\n",
       " 467,\n",
       " 479,\n",
       " 487,\n",
       " 491,\n",
       " 499,\n",
       " 503,\n",
       " 509,\n",
       " 521,\n",
       " 523,\n",
       " 541,\n",
       " 547,\n",
       " 557,\n",
       " 563,\n",
       " 569,\n",
       " 571,\n",
       " 577,\n",
       " 587,\n",
       " 593,\n",
       " 599,\n",
       " 601,\n",
       " 607,\n",
       " 613,\n",
       " 617,\n",
       " 619,\n",
       " 631,\n",
       " 641,\n",
       " 643,\n",
       " 647,\n",
       " 653,\n",
       " 659,\n",
       " 661,\n",
       " 673,\n",
       " 677,\n",
       " 683,\n",
       " 691,\n",
       " 701,\n",
       " 709,\n",
       " 719,\n",
       " 727,\n",
       " 733,\n",
       " 739,\n",
       " 743,\n",
       " 751,\n",
       " 757,\n",
       " 761,\n",
       " 769,\n",
       " 773,\n",
       " 787,\n",
       " 797,\n",
       " 809,\n",
       " 811,\n",
       " 821,\n",
       " 823,\n",
       " 827,\n",
       " 829,\n",
       " 839,\n",
       " 853,\n",
       " 857,\n",
       " 859,\n",
       " 863,\n",
       " 877,\n",
       " 881,\n",
       " 883,\n",
       " 887,\n",
       " 907,\n",
       " 911,\n",
       " 919,\n",
       " 929,\n",
       " 937,\n",
       " 941,\n",
       " 947,\n",
       " 953,\n",
       " 967,\n",
       " 971,\n",
       " 977,\n",
       " 983,\n",
       " 991,\n",
       " 997]"
      ]
     },
     "execution_count": 66,
     "metadata": {},
     "output_type": "execute_result"
    }
   ],
   "source": [
    "l5"
   ]
  },
  {
   "cell_type": "code",
   "execution_count": 69,
   "id": "e0b13b4c-50b8-438f-a4e8-bf493cfcaeec",
   "metadata": {},
   "outputs": [
    {
     "name": "stdout",
     "output_type": "stream",
     "text": [
      "2\n",
      "3\n",
      "5\n",
      "7\n",
      "11\n",
      "13\n",
      "17\n",
      "19\n",
      "23\n",
      "29\n",
      "31\n",
      "37\n",
      "41\n",
      "43\n",
      "47\n",
      "53\n",
      "59\n",
      "61\n",
      "67\n",
      "71\n"
     ]
    }
   ],
   "source": [
    "list1 = iter(l5)\n",
    "for i in range(20) :\n",
    "    print(next(list1))\n",
    "# Here are the first 20 prime numbers printed using next()"
   ]
  },
  {
   "cell_type": "code",
   "execution_count": 4,
   "id": "41908285-3c3f-427b-8c26-80531e564cc6",
   "metadata": {},
   "outputs": [
    {
     "name": "stdout",
     "output_type": "stream",
     "text": [
      "1\n",
      "1\n",
      "2\n",
      "3\n",
      "5\n",
      "8\n",
      "13\n",
      "21\n",
      "34\n",
      "55\n"
     ]
    }
   ],
   "source": [
    "# Que(6) :- print fibonacci using while loop\n",
    "# ans :- \n",
    "a,b,count = 1,1,0\n",
    "while(count != 10):\n",
    "    print(a)\n",
    "    a,b = b,a+b\n",
    "    count = count+1"
   ]
  },
  {
   "cell_type": "code",
   "execution_count": 6,
   "id": "31caeffa-f7de-40ae-99c6-44e70beb3669",
   "metadata": {},
   "outputs": [
    {
     "data": {
      "text/plain": [
       "['p', 'w', 's', 'k', 'i', 'l', 'l', 's']"
      ]
     },
     "execution_count": 6,
     "metadata": {},
     "output_type": "execute_result"
    }
   ],
   "source": [
    "# Que(7):- \n",
    "string1 = \"pwskills\"\n",
    "l1 = [x for x in string1]\n",
    "l1"
   ]
  },
  {
   "cell_type": "code",
   "execution_count": 18,
   "id": "3ddcf1cc-f5a0-4b77-b2e6-5b357c91ab98",
   "metadata": {},
   "outputs": [
    {
     "name": "stdin",
     "output_type": "stream",
     "text": [
      "Enter a no. to check whether it is palindrome :  12345\n"
     ]
    },
    {
     "name": "stdout",
     "output_type": "stream",
     "text": [
      "12345 is not a palindrome number\n"
     ]
    }
   ],
   "source": [
    "# Que(8):- Python programme to check whether a number is palindrom or not \n",
    "n  = int(input(\"Enter a no. to check whether it is palindrome : \"))\n",
    "num1 = n\n",
    "sum = 0 \n",
    "while(n != 0):\n",
    "    sum = sum*10 + (n%10) \n",
    "    n = int(n/10)\n",
    "if sum == num1 :\n",
    "    print(num1,\" is a palindrome number\")\n",
    "else : \n",
    "    print(num1, \"is not a palindrome number\")"
   ]
  },
  {
   "cell_type": "code",
   "execution_count": 17,
   "id": "aca1ce66-360d-4d2c-b512-7f9efc740510",
   "metadata": {},
   "outputs": [
    {
     "name": "stdin",
     "output_type": "stream",
     "text": [
      "Enter a no. to check whether it is palindrome :  1234321\n"
     ]
    },
    {
     "name": "stdout",
     "output_type": "stream",
     "text": [
      "1234321  is a palindrome number\n"
     ]
    }
   ],
   "source": [
    "n  = int(input(\"Enter a no. to check whether it is palindrome : \"))\n",
    "num1 = n\n",
    "sum = 0 \n",
    "while(n != 0):\n",
    "    sum = sum*10 + (n%10) \n",
    "    n = int(n/10)\n",
    "if sum == num1 :\n",
    "    print(num1,\" is a palindrome number\")\n",
    "else : \n",
    "    print(num1, \"is not a palindrome number\")"
   ]
  },
  {
   "cell_type": "code",
   "execution_count": 20,
   "id": "1bd7bed6-6ebf-4331-b2b1-37ac342e3381",
   "metadata": {},
   "outputs": [
    {
     "ename": "SyntaxError",
     "evalue": "invalid syntax (1890429752.py, line 2)",
     "output_type": "error",
     "traceback": [
      "\u001b[0;36m  Cell \u001b[0;32mIn[20], line 2\u001b[0;36m\u001b[0m\n\u001b[0;31m    list2 = [for i in range(100) i if i%2 != 0]\u001b[0m\n\u001b[0m             ^\u001b[0m\n\u001b[0;31mSyntaxError\u001b[0m\u001b[0;31m:\u001b[0m invalid syntax\n"
     ]
    }
   ],
   "source": [
    "# Que(10):-\n",
    "list1 = [for i in range(100)]"
   ]
  },
  {
   "cell_type": "code",
   "execution_count": null,
   "id": "9bc04c21-010c-416e-a550-c4aee5f2bb76",
   "metadata": {},
   "outputs": [],
   "source": []
  }
 ],
 "metadata": {
  "kernelspec": {
   "display_name": "Python 3 (ipykernel)",
   "language": "python",
   "name": "python3"
  },
  "language_info": {
   "codemirror_mode": {
    "name": "ipython",
    "version": 3
   },
   "file_extension": ".py",
   "mimetype": "text/x-python",
   "name": "python",
   "nbconvert_exporter": "python",
   "pygments_lexer": "ipython3",
   "version": "3.10.8"
  }
 },
 "nbformat": 4,
 "nbformat_minor": 5
}
