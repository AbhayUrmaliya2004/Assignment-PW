{
 "cells": [
  {
   "cell_type": "code",
   "execution_count": 12,
   "id": "2968dd16-7bd9-4e72-9506-cb57c607b0f3",
   "metadata": {},
   "outputs": [],
   "source": [
    "# Que(1) :- \n",
    "list_of_tuples = [(3,'Sachin Tendulkar', 34357), (1,'Ricky Ponting', 27483), (5,'Jack Kallis', 25534), (7,'Virat Kohli', 24936)]"
   ]
  },
  {
   "cell_type": "code",
   "execution_count": 13,
   "id": "73481f7f-1bdd-4e55-b76c-37ba7eaffa31",
   "metadata": {},
   "outputs": [
    {
     "data": {
      "text/plain": [
       "[(1, 'Ricky Ponting', 27483),\n",
       " (3, 'Sachin Tendulkar', 34357),\n",
       " (5, 'Jack Kallis', 25534),\n",
       " (7, 'Virat Kohli', 24936)]"
      ]
     },
     "execution_count": 13,
     "metadata": {},
     "output_type": "execute_result"
    }
   ],
   "source": [
    "list_of_tuples.sort()\n",
    "list_of_tuples"
   ]
  },
  {
   "cell_type": "code",
   "execution_count": 16,
   "id": "83403003-ddc3-495c-bd43-81c21e9753ac",
   "metadata": {},
   "outputs": [
    {
     "data": {
      "text/plain": [
       "[(5, 'Jack Kallis', 25534),\n",
       " (1, 'Ricky Ponting', 27483),\n",
       " (3, 'Sachin Tendulkar', 34357),\n",
       " (7, 'Virat Kohli', 24936)]"
      ]
     },
     "execution_count": 16,
     "metadata": {},
     "output_type": "execute_result"
    }
   ],
   "source": [
    "# list can be sorted by any basis either by number or any collection \n",
    "list_of_tuples.sort(key = lambda x : x[1])\n",
    "list_of_tuples"
   ]
  },
  {
   "cell_type": "code",
   "execution_count": 20,
   "id": "ca6cdaae-4829-45dd-8921-e58bf8e8464e",
   "metadata": {},
   "outputs": [],
   "source": [
    "# Que(2):-\n",
    "l = [1, 2, 3, 4, 5, 6, 7, 8, 9, 10]\n",
    "def square_of_num(x):\n",
    "    return x**2\n",
    "# square_of_num(5)"
   ]
  },
  {
   "cell_type": "code",
   "execution_count": 21,
   "id": "f2432ba0-11db-471c-81b2-e68b1c967b73",
   "metadata": {},
   "outputs": [],
   "source": [
    "l2 = list(map(square_of_num,l))"
   ]
  },
  {
   "cell_type": "code",
   "execution_count": 22,
   "id": "1ac9a679-3b29-40a5-9c17-cb9e523152c6",
   "metadata": {},
   "outputs": [
    {
     "data": {
      "text/plain": [
       "[1, 4, 9, 16, 25, 36, 49, 64, 81, 100]"
      ]
     },
     "execution_count": 22,
     "metadata": {},
     "output_type": "execute_result"
    }
   ],
   "source": [
    "l2"
   ]
  },
  {
   "cell_type": "code",
   "execution_count": 37,
   "id": "a56cee6e-be7a-4f73-804e-06f28cb2ba5d",
   "metadata": {},
   "outputs": [
    {
     "data": {
      "text/plain": [
       "('1', '2', '3', '4', '5', '6', '7', '8', '9', '10')"
      ]
     },
     "execution_count": 37,
     "metadata": {},
     "output_type": "execute_result"
    }
   ],
   "source": [
    "# Que(3):- program to convert a list into tuple \n",
    "l = [1,2,3,4,5,6,7,8,9,10]\n",
    "a = lambda x:str(x)\n",
    "l2 = tuple(map(a,l))\n",
    "l2"
   ]
  },
  {
   "cell_type": "code",
   "execution_count": 47,
   "id": "62d69aec-294c-4320-adc7-44d077ceea58",
   "metadata": {},
   "outputs": [
    {
     "data": {
      "text/plain": [
       "[1,\n",
       " 2,\n",
       " 3,\n",
       " 4,\n",
       " 5,\n",
       " 6,\n",
       " 7,\n",
       " 8,\n",
       " 9,\n",
       " 10,\n",
       " 11,\n",
       " 12,\n",
       " 13,\n",
       " 14,\n",
       " 15,\n",
       " 16,\n",
       " 17,\n",
       " 18,\n",
       " 19,\n",
       " 20,\n",
       " 21,\n",
       " 22,\n",
       " 23,\n",
       " 24,\n",
       " 25]"
      ]
     },
     "execution_count": 47,
     "metadata": {},
     "output_type": "execute_result"
    }
   ],
   "source": [
    "# Que(4):- \n",
    "l = []\n",
    "for i in range(1,26):\n",
    "    l.append(i)\n",
    "l"
   ]
  },
  {
   "cell_type": "code",
   "execution_count": 48,
   "id": "0f90d726-46b0-459a-ab7c-dcbed83df22d",
   "metadata": {},
   "outputs": [
    {
     "data": {
      "text/plain": [
       "15511210043330985984000000"
      ]
     },
     "execution_count": 48,
     "metadata": {},
     "output_type": "execute_result"
    }
   ],
   "source": [
    "from functools import reduce\n",
    "prod = (reduce(lambda x,y :x*y,l))\n",
    "prod"
   ]
  },
  {
   "cell_type": "code",
   "execution_count": 20,
   "id": "cb712155-b398-4e7f-99bc-37c83fc58e2e",
   "metadata": {},
   "outputs": [
    {
     "data": {
      "text/plain": [
       "[6, 60, 90, 120]"
      ]
     },
     "execution_count": 20,
     "metadata": {},
     "output_type": "execute_result"
    }
   ],
   "source": [
    "#Que(5):-\n",
    "l3 = [2, 3, 6, 9, 27, 60, 90, 120, 55, 46]\n",
    "l4 = list(filter(lambda x : x%2 == 0 and x%3 == 0,l3))\n",
    "l4"
   ]
  },
  {
   "cell_type": "code",
   "execution_count": 24,
   "id": "87c8bada-3972-4470-bc70-85912b738228",
   "metadata": {},
   "outputs": [],
   "source": [
    "# Que(6):-\n",
    "\n",
    "def palindrome(x):\n",
    "    i = 0\n",
    "    j = len(x)-1\n",
    "    while i < j :\n",
    "        if x[i] != x[j]:\n",
    "            return False \n",
    "        return True "
   ]
  },
  {
   "cell_type": "code",
   "execution_count": null,
   "id": "8fd6d2e5-d133-48ba-b489-b28a23d2468c",
   "metadata": {},
   "outputs": [],
   "source": [
    "l5 = ['python', 'php', 'aba', 'radar', 'level']\n",
    "l"
   ]
  },
  {
   "cell_type": "code",
   "execution_count": null,
   "id": "9000379f-9c35-4354-bbae-975747dfcf3d",
   "metadata": {},
   "outputs": [],
   "source": []
  }
 ],
 "metadata": {
  "kernelspec": {
   "display_name": "Python 3 (ipykernel)",
   "language": "python",
   "name": "python3"
  },
  "language_info": {
   "codemirror_mode": {
    "name": "ipython",
    "version": 3
   },
   "file_extension": ".py",
   "mimetype": "text/x-python",
   "name": "python",
   "nbconvert_exporter": "python",
   "pygments_lexer": "ipython3",
   "version": "3.10.8"
  }
 },
 "nbformat": 4,
 "nbformat_minor": 5
}
