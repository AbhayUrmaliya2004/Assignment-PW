{
 "cells": [
  {
   "cell_type": "code",
   "execution_count": 1,
   "id": "398b18e3-dfd8-4b86-ae47-b16cf92446d9",
   "metadata": {},
   "outputs": [],
   "source": [
    "# Que(1):-\n",
    "class vehicle:\n",
    "    def __init__(self, name,speed, avg):\n",
    "        self.name_of_vehicle = name \n",
    "        self.max_speed = speed\n",
    "        self.average_of_vehicle = avg\n",
    "                \n",
    "bike = vehicle(\"Honda Shine\",120,60) "
   ]
  },
  {
   "cell_type": "code",
   "execution_count": 2,
   "id": "ff9bab39-592e-4e33-b4e8-7a79278a2341",
   "metadata": {},
   "outputs": [
    {
     "data": {
      "text/plain": [
       "60"
      ]
     },
     "execution_count": 2,
     "metadata": {},
     "output_type": "execute_result"
    }
   ],
   "source": [
    "bike.average_of_vehicle"
   ]
  },
  {
   "cell_type": "code",
   "execution_count": 3,
   "id": "31c15ba1-7b44-416f-96f3-6e8e3cd12ad4",
   "metadata": {},
   "outputs": [
    {
     "data": {
      "text/plain": [
       "'Honda Shine'"
      ]
     },
     "execution_count": 3,
     "metadata": {},
     "output_type": "execute_result"
    }
   ],
   "source": [
    "bike.name_of_vehicle"
   ]
  },
  {
   "cell_type": "code",
   "execution_count": 4,
   "id": "ed7c5630-b058-495c-989b-d79fe557306a",
   "metadata": {},
   "outputs": [
    {
     "data": {
      "text/plain": [
       "120"
      ]
     },
     "execution_count": 4,
     "metadata": {},
     "output_type": "execute_result"
    }
   ],
   "source": [
    "bike.max_speed"
   ]
  },
  {
   "cell_type": "code",
   "execution_count": 24,
   "id": "0a7a1086-f9e6-448e-9255-7886a9df6af4",
   "metadata": {},
   "outputs": [],
   "source": [
    "#Que(2):\n",
    "class car(vehicle):\n",
    "    def seating_capacity(self,capacity):\n",
    "        self.seating_capacity = capacity\n",
    "        return (self.name_of_vehicle,self.seating_capacity)"
   ]
  },
  {
   "cell_type": "code",
   "execution_count": 25,
   "id": "2b7a24a8-a92d-4c71-a8e1-1a2b9cc3153f",
   "metadata": {},
   "outputs": [],
   "source": [
    "car1 = car(\"Maruti Suzuki\",140,25)"
   ]
  },
  {
   "cell_type": "code",
   "execution_count": 26,
   "id": "32ea4afb-44c4-414d-ba48-c6c7f734eb9c",
   "metadata": {},
   "outputs": [
    {
     "data": {
      "text/plain": [
       "('Maruti Suzuki', 5)"
      ]
     },
     "execution_count": 26,
     "metadata": {},
     "output_type": "execute_result"
    }
   ],
   "source": [
    "car1.seating_capacity(5)"
   ]
  },
  {
   "cell_type": "code",
   "execution_count": 53,
   "id": "60c113e6-c3b5-4652-bd9f-e88f737f52b1",
   "metadata": {},
   "outputs": [],
   "source": [
    "#Que(3):\n",
    "class Mother:\n",
    "    def sing(self):\n",
    "        return \"sings nicely\"\n",
    "    def dance(self):\n",
    "        print(\"Dnace beautifully\")"
   ]
  },
  {
   "cell_type": "code",
   "execution_count": 54,
   "id": "c7369348-e022-45f0-a261-647b8cf1a8dc",
   "metadata": {},
   "outputs": [],
   "source": [
    "class Father:\n",
    "    def drive(self):\n",
    "        print(\"can drive car\")\n",
    "        pass"
   ]
  },
  {
   "cell_type": "code",
   "execution_count": 55,
   "id": "eff83e8c-39f1-4922-ba21-ecd67d57ac15",
   "metadata": {},
   "outputs": [],
   "source": [
    "class child(Mother,Father):\n",
    "    pass"
   ]
  },
  {
   "cell_type": "code",
   "execution_count": 56,
   "id": "9f156743-c832-46e0-9589-6e15c8c35543",
   "metadata": {},
   "outputs": [],
   "source": [
    "# Here, we can see that properties of mtoher and father is inherited to their child\n",
    "rohan = child()"
   ]
  },
  {
   "cell_type": "code",
   "execution_count": 57,
   "id": "b8570fa6-8162-4a80-98b1-39b6db4ae287",
   "metadata": {},
   "outputs": [
    {
     "data": {
      "text/plain": [
       "'sings nicely'"
      ]
     },
     "execution_count": 57,
     "metadata": {},
     "output_type": "execute_result"
    }
   ],
   "source": [
    "rohan.sing()"
   ]
  },
  {
   "cell_type": "code",
   "execution_count": 59,
   "id": "521e08ab-c364-4db5-b8f1-335ab7a27ebd",
   "metadata": {},
   "outputs": [
    {
     "name": "stdout",
     "output_type": "stream",
     "text": [
      "can drive car\n"
     ]
    }
   ],
   "source": [
    "rohan.drive()"
   ]
  },
  {
   "cell_type": "code",
   "execution_count": 60,
   "id": "0f6fbae7-9088-4577-9059-d750f25a0efd",
   "metadata": {},
   "outputs": [
    {
     "name": "stdout",
     "output_type": "stream",
     "text": [
      "Dnace beautifully\n"
     ]
    }
   ],
   "source": [
    "rohan.dance()"
   ]
  },
  {
   "cell_type": "code",
   "execution_count": 88,
   "id": "eed339f5-05c7-4d55-aba3-f94523c9ea22",
   "metadata": {},
   "outputs": [],
   "source": [
    "#Que(4):-\n",
    "class vehicle1:\n",
    "    def __init__(self, name,speed, avg):\n",
    "        self.name_of_vehicle = name \n",
    "        self.max_speed = speed\n",
    "        self.average_of_vehicle = avg\n",
    "    \n",
    "    # THESE ARE GETTERS METHODS\n",
    "    def get_name(self):\n",
    "        return self.name_of_vehicle\n",
    "    \n",
    "    def get_speed(self):\n",
    "        return self.max_speed\n",
    "    \n",
    "    def get_avg(self):\n",
    "        return self.average_of_vehicle\n",
    "    \n",
    "    #THESE ARE SETTERS METHODS(ude to set data)\n",
    "    def set_name(self,new_name):\n",
    "        self.name_of_vehicle = new_name\n",
    "   \n",
    "    def set_speed(self,new_speed):\n",
    "        self.max_speed = new_speed\n",
    "        \n",
    "    def set_avg(self,new_avg):\n",
    "        self.new_avg = new_avg"
   ]
  },
  {
   "cell_type": "code",
   "execution_count": 89,
   "id": "77c9c533-3532-4978-acf7-b7aa8ed38ff4",
   "metadata": {},
   "outputs": [],
   "source": [
    "test_car = vehicle1(\"fortuner\",160,25)"
   ]
  },
  {
   "cell_type": "code",
   "execution_count": 90,
   "id": "ac847eef-5fc7-4fc5-9e5d-2e1ad8235ff4",
   "metadata": {},
   "outputs": [
    {
     "data": {
      "text/plain": [
       "'fortuner'"
      ]
     },
     "execution_count": 90,
     "metadata": {},
     "output_type": "execute_result"
    }
   ],
   "source": [
    "test_car.get_name()"
   ]
  },
  {
   "cell_type": "code",
   "execution_count": 91,
   "id": "ad42c635-ebfa-41d1-adf4-bd00fd200ce9",
   "metadata": {},
   "outputs": [
    {
     "data": {
      "text/plain": [
       "160"
      ]
     },
     "execution_count": 91,
     "metadata": {},
     "output_type": "execute_result"
    }
   ],
   "source": [
    "test_car.get_speed()"
   ]
  },
  {
   "cell_type": "code",
   "execution_count": 92,
   "id": "b4dc0393-1323-4aeb-83e7-1a51bf0cd21b",
   "metadata": {},
   "outputs": [],
   "source": [
    "test_car.set_name(\"Bugatti\")\n",
    "test_car.set_speed(300)"
   ]
  },
  {
   "cell_type": "code",
   "execution_count": 94,
   "id": "f4d62271-3bf7-4747-a3ab-6dc40b6de147",
   "metadata": {},
   "outputs": [
    {
     "data": {
      "text/plain": [
       "'Bugatti'"
      ]
     },
     "execution_count": 94,
     "metadata": {},
     "output_type": "execute_result"
    }
   ],
   "source": [
    "test_car.get_name()"
   ]
  },
  {
   "cell_type": "code",
   "execution_count": 95,
   "id": "da2b7e91-4ba0-40d0-9127-8e1e309ef614",
   "metadata": {},
   "outputs": [
    {
     "data": {
      "text/plain": [
       "300"
      ]
     },
     "execution_count": 95,
     "metadata": {},
     "output_type": "execute_result"
    }
   ],
   "source": [
    "test_car.get_speed()"
   ]
  },
  {
   "cell_type": "code",
   "execution_count": 97,
   "id": "759f8bf6-6701-4a68-bb2c-18b0940386bb",
   "metadata": {},
   "outputs": [
    {
     "data": {
      "text/plain": [
       "25"
      ]
     },
     "execution_count": 97,
     "metadata": {},
     "output_type": "execute_result"
    }
   ],
   "source": [
    "test_car.get_avg()"
   ]
  },
  {
   "cell_type": "code",
   "execution_count": 127,
   "id": "45e85d08-ea87-4895-9a2e-e771c9e93a5b",
   "metadata": {},
   "outputs": [],
   "source": [
    "# Que(5):- Method OverRiding is a process by which child class change the implementation \n",
    "#          A/C to required \n",
    "class Parent:\n",
    "    age = 45\n",
    "    \n",
    "    def __init__(self):\n",
    "        self.data = \"Object of Parent Class\"\n",
    "        \n",
    "    def show_data(self):\n",
    "        return self.data\n",
    "    \n",
    "    def fav_sport(self):\n",
    "        self.fav_sport = \"cricket\"\n",
    "        \n",
    "        \n",
    "class Child(Parent):\n",
    "    age = 18\n",
    "    \n",
    "    def __init__(self):\n",
    "        self.data = \"Object of child Class\"\n",
    "        \n",
    "    def show_data(self):\n",
    "        return self.data\n",
    "    \n",
    "    def fav_sport(self):\n",
    "        self.fav_sport = \"football\""
   ]
  },
  {
   "cell_type": "code",
   "execution_count": 117,
   "id": "6be91741-cac8-4924-8d91-8a3b672372f6",
   "metadata": {},
   "outputs": [],
   "source": [
    "parent = Parent()\n",
    "child = Child()"
   ]
  },
  {
   "cell_type": "code",
   "execution_count": 118,
   "id": "d4402ff1-4636-48c7-a7af-45d0b040ff87",
   "metadata": {},
   "outputs": [
    {
     "data": {
      "text/plain": [
       "'Object of Parent Class'"
      ]
     },
     "execution_count": 118,
     "metadata": {},
     "output_type": "execute_result"
    }
   ],
   "source": [
    "parent.show_data()"
   ]
  },
  {
   "cell_type": "code",
   "execution_count": 119,
   "id": "8622a9f2-3dbd-4c73-aa3c-a6122e13b4a6",
   "metadata": {},
   "outputs": [
    {
     "data": {
      "text/plain": [
       "'Object of child Class'"
      ]
     },
     "execution_count": 119,
     "metadata": {},
     "output_type": "execute_result"
    }
   ],
   "source": [
    "child.show_data()"
   ]
  },
  {
   "cell_type": "code",
   "execution_count": 121,
   "id": "ea01c8bb-a627-42c6-b172-f37f42aca8c9",
   "metadata": {},
   "outputs": [],
   "source": [
    "parent.fav_sport()"
   ]
  },
  {
   "cell_type": "code",
   "execution_count": 122,
   "id": "6dad6f17-dad6-473b-8b82-7584f2876a44",
   "metadata": {},
   "outputs": [
    {
     "data": {
      "text/plain": [
       "'cricket'"
      ]
     },
     "execution_count": 122,
     "metadata": {},
     "output_type": "execute_result"
    }
   ],
   "source": [
    "parent.fav_sport"
   ]
  },
  {
   "cell_type": "code",
   "execution_count": 123,
   "id": "c12d31d0-ab23-4949-84b3-c8bd89123e06",
   "metadata": {},
   "outputs": [],
   "source": [
    "child.fav_sport()"
   ]
  },
  {
   "cell_type": "code",
   "execution_count": 124,
   "id": "d322f20d-ed00-4492-914c-882bfade89dc",
   "metadata": {},
   "outputs": [
    {
     "data": {
      "text/plain": [
       "'football'"
      ]
     },
     "execution_count": 124,
     "metadata": {},
     "output_type": "execute_result"
    }
   ],
   "source": [
    "child.fav_sport"
   ]
  },
  {
   "cell_type": "code",
   "execution_count": 125,
   "id": "0badd020-d378-4a9f-be38-3cdb7b0ecc4b",
   "metadata": {},
   "outputs": [
    {
     "data": {
      "text/plain": [
       "45"
      ]
     },
     "execution_count": 125,
     "metadata": {},
     "output_type": "execute_result"
    }
   ],
   "source": [
    "parent.age"
   ]
  },
  {
   "cell_type": "code",
   "execution_count": 126,
   "id": "7ea35a1c-c64c-4aa9-83ae-fe4105de748c",
   "metadata": {},
   "outputs": [
    {
     "data": {
      "text/plain": [
       "18"
      ]
     },
     "execution_count": 126,
     "metadata": {},
     "output_type": "execute_result"
    }
   ],
   "source": [
    "child.age"
   ]
  },
  {
   "cell_type": "code",
   "execution_count": null,
   "id": "2b6e85fa-f0c4-4742-b1e5-e305add6ad50",
   "metadata": {},
   "outputs": [],
   "source": []
  }
 ],
 "metadata": {
  "kernelspec": {
   "display_name": "Python 3 (ipykernel)",
   "language": "python",
   "name": "python3"
  },
  "language_info": {
   "codemirror_mode": {
    "name": "ipython",
    "version": 3
   },
   "file_extension": ".py",
   "mimetype": "text/x-python",
   "name": "python",
   "nbconvert_exporter": "python",
   "pygments_lexer": "ipython3",
   "version": "3.10.8"
  }
 },
 "nbformat": 4,
 "nbformat_minor": 5
}
