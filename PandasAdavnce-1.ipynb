{
 "cells": [
  {
   "cell_type": "code",
   "execution_count": null,
   "id": "944e049a-bac2-436d-992c-bdee3b143ecb",
   "metadata": {},
   "outputs": [],
   "source": [
    "import pandas as pd"
   ]
  },
  {
   "cell_type": "markdown",
   "id": "6b08fc0c-eb9b-48e6-8ca9-06f5222372b0",
   "metadata": {},
   "source": [
    "# Question No. (1)"
   ]
  },
  {
   "cell_type": "markdown",
   "id": "1d994744-ac11-4597-88b6-f3d080d23c23",
   "metadata": {},
   "source": [
    "1st function - convert list to dataframe"
   ]
  },
  {
   "cell_type": "code",
   "execution_count": null,
   "id": "691bb1eb-9c78-40df-87dc-44768ee00bf1",
   "metadata": {},
   "outputs": [],
   "source": [
    "df = pd.DataFrame([1,2,3,4,5], index = [list(range(5))], columns = ['value'])"
   ]
  },
  {
   "cell_type": "code",
   "execution_count": null,
   "id": "cdcb4ef8-f95d-426b-aec6-6e6c93cb37ff",
   "metadata": {},
   "outputs": [],
   "source": [
    "df"
   ]
  },
  {
   "cell_type": "markdown",
   "id": "9c75ca67-cba7-4a12-8f61-c4fbc5e748dd",
   "metadata": {},
   "source": [
    "2nd function - creating new column in data frame "
   ]
  },
  {
   "cell_type": "markdown",
   "id": "f08b7371-4405-467e-846a-8243dbcb9e37",
   "metadata": {},
   "source": [
    "3rd function - apply function "
   ]
  },
  {
   "cell_type": "code",
   "execution_count": null,
   "id": "94275f70-7733-4dd5-85e6-ce04e4958592",
   "metadata": {},
   "outputs": [],
   "source": [
    "def square(x):\n",
    "    return x**2 ;\n",
    "\n",
    "df['square_values'] = df['value'].apply(square)"
   ]
  },
  {
   "cell_type": "code",
   "execution_count": null,
   "id": "a91f2630-4fef-4673-86c8-fed3501769c0",
   "metadata": {},
   "outputs": [],
   "source": [
    "df"
   ]
  },
  {
   "cell_type": "markdown",
   "id": "2a60f242-19c2-45c2-9d86-974a3ddcc2a8",
   "metadata": {},
   "source": [
    "4th function - drop the row or columns"
   ]
  },
  {
   "cell_type": "code",
   "execution_count": null,
   "id": "01c6abbd-510d-4248-9214-2f77a44be76b",
   "metadata": {},
   "outputs": [],
   "source": [
    "df.drop(1, inplace = True)"
   ]
  },
  {
   "cell_type": "markdown",
   "id": "a3b6a66f-02b5-48ad-871f-df0567f13baf",
   "metadata": {},
   "source": [
    "adding new column to data frame "
   ]
  },
  {
   "cell_type": "code",
   "execution_count": null,
   "id": "1de5fbad-64eb-4a9b-9189-0c26a1c4e69d",
   "metadata": {},
   "outputs": [],
   "source": [
    "df['value_2'] = list(range(4))"
   ]
  },
  {
   "cell_type": "code",
   "execution_count": null,
   "id": "87a17dd0-8f71-43b3-92f8-46df6cf5d8f3",
   "metadata": {},
   "outputs": [],
   "source": [
    "df"
   ]
  },
  {
   "cell_type": "markdown",
   "id": "48ac9b03-99d3-402b-aed3-6c3ec86515d7",
   "metadata": {},
   "source": [
    "Arithmatic operations"
   ]
  },
  {
   "cell_type": "code",
   "execution_count": null,
   "id": "81d3f26d-3578-48a0-baf0-ad02ee9f1d8a",
   "metadata": {},
   "outputs": [],
   "source": [
    "df['sum'] = df['value']+df['value_2']"
   ]
  },
  {
   "cell_type": "code",
   "execution_count": null,
   "id": "181454df-119e-4528-a8d4-a8dfeb6c411f",
   "metadata": {},
   "outputs": [],
   "source": [
    "df"
   ]
  },
  {
   "cell_type": "markdown",
   "id": "2c021231-ef92-4be8-a591-a5feac7fe54b",
   "metadata": {},
   "source": [
    "6th function - - reset_index"
   ]
  },
  {
   "cell_type": "code",
   "execution_count": null,
   "id": "6c6bf7f6-3b44-4fbe-8c3f-c0cefc09934a",
   "metadata": {},
   "outputs": [],
   "source": [
    "df.reset_index()"
   ]
  },
  {
   "cell_type": "markdown",
   "id": "f53771ba-0967-4daf-ab12-11484be66589",
   "metadata": {},
   "source": [
    "# Question - (2)"
   ]
  },
  {
   "cell_type": "code",
   "execution_count": null,
   "id": "669fb41e-bc2b-4966-92e7-b02f303492c3",
   "metadata": {},
   "outputs": [],
   "source": [
    "data = {\n",
    "    'A' : [1,2,3,4,5],\n",
    "    'B' : [6,7,8,9,10],\n",
    "    'C' : [11,12,13,14,15]\n",
    "}"
   ]
  },
  {
   "cell_type": "code",
   "execution_count": null,
   "id": "d210f6e3-73c2-47b7-8358-d6dd723e8a31",
   "metadata": {},
   "outputs": [],
   "source": [
    "df = pd.DataFrame(data)"
   ]
  },
  {
   "cell_type": "code",
   "execution_count": null,
   "id": "eba81eae-7401-418c-912a-db647a415d25",
   "metadata": {},
   "outputs": [],
   "source": [
    "df"
   ]
  },
  {
   "cell_type": "code",
   "execution_count": null,
   "id": "59b31d97-9ead-4532-80e0-453afd08ed58",
   "metadata": {},
   "outputs": [],
   "source": [
    "new_index = range(1, len(df)*2, 2)\n",
    "df.set_index(pd.Index(new_index))"
   ]
  },
  {
   "cell_type": "markdown",
   "id": "77c2eaaf-473c-47ad-bae4-290bc9429c71",
   "metadata": {},
   "source": [
    "# Question - (3)"
   ]
  },
  {
   "cell_type": "code",
   "execution_count": null,
   "id": "7a038c7b-7a5c-4377-a9a9-83a87228f100",
   "metadata": {},
   "outputs": [],
   "source": [
    "data1 = {\n",
    "   'values' : [10,20,30,40,50,60]\n",
    "}"
   ]
  },
  {
   "cell_type": "code",
   "execution_count": null,
   "id": "272a3d23-ffb0-4a87-9064-fa49d412bdfb",
   "metadata": {},
   "outputs": [],
   "source": [
    "df1 = pd.DataFrame(data1)"
   ]
  },
  {
   "cell_type": "code",
   "execution_count": null,
   "id": "b3efe05f-f7d4-4856-8957-4beee963a6ae",
   "metadata": {},
   "outputs": [],
   "source": [
    "print(\"sum of first 3 rows : \"+str(df1[0:3].sum()))"
   ]
  },
  {
   "cell_type": "markdown",
   "id": "513020cf-33f7-43b0-9eb6-3ac146838066",
   "metadata": {},
   "source": [
    "# Question - (4)"
   ]
  },
  {
   "cell_type": "code",
   "execution_count": null,
   "id": "118796d5-e4b2-4e36-838a-c7d82489c145",
   "metadata": {},
   "outputs": [],
   "source": [
    "data2 = {\n",
    "   'text' : ['JEE', 'NEET','SSC', 'UPSC', 'PW_SKILLS','ENGINEER','DOCTOR']\n",
    "}"
   ]
  },
  {
   "cell_type": "code",
   "execution_count": null,
   "id": "cb561f80-0489-4c9e-82ac-4e3fb306322d",
   "metadata": {},
   "outputs": [],
   "source": [
    "df2 = pd.DataFrame(data2)"
   ]
  },
  {
   "cell_type": "code",
   "execution_count": null,
   "id": "a2848af6-a641-406c-8a78-1a4b4f848226",
   "metadata": {},
   "outputs": [],
   "source": [
    "df2"
   ]
  },
  {
   "cell_type": "code",
   "execution_count": null,
   "id": "32dfd74a-e66e-4190-b1b6-529bf043f668",
   "metadata": {},
   "outputs": [],
   "source": [
    "df2['word_count']=df2['text'].apply(len)"
   ]
  },
  {
   "cell_type": "code",
   "execution_count": null,
   "id": "ac6d622a-1250-4891-842e-563bdd915244",
   "metadata": {},
   "outputs": [],
   "source": [
    "df2"
   ]
  },
  {
   "cell_type": "markdown",
   "id": "af88f4f9-ddc7-4380-a189-29087d6cc5b4",
   "metadata": {},
   "source": [
    "# Question No. - (5)"
   ]
  },
  {
   "cell_type": "code",
   "execution_count": null,
   "id": "b07b6381-d290-49b4-9e22-571a6ac81372",
   "metadata": {},
   "outputs": [],
   "source": [
    "data3 = {'A': [1, 2, 3], 'B': [4, 5, 6], 'C': [7, 8, 9]}"
   ]
  },
  {
   "cell_type": "code",
   "execution_count": null,
   "id": "0d0c9f54-c4c7-49cf-9a3f-294d4523b971",
   "metadata": {},
   "outputs": [],
   "source": [
    "df3 = pd.DataFrame(data3)"
   ]
  },
  {
   "cell_type": "markdown",
   "id": "c306a86b-413e-4a7a-ad53-99b722b6155f",
   "metadata": {},
   "source": [
    "--> shape, provide a tuple with no of row and columns in a dataframe "
   ]
  },
  {
   "cell_type": "code",
   "execution_count": null,
   "id": "e26d9042-ac40-440a-b5ab-9af1a489c306",
   "metadata": {},
   "outputs": [],
   "source": [
    "df3.shape"
   ]
  },
  {
   "cell_type": "markdown",
   "id": "d0ab0095-fd6f-4123-aa49-9044e83d9168",
   "metadata": {},
   "source": [
    "--> size, gives the total no. of elements in a dataframe "
   ]
  },
  {
   "cell_type": "code",
   "execution_count": null,
   "id": "de245ce6-2465-4e00-8ae5-74dfba5edf28",
   "metadata": {},
   "outputs": [],
   "source": [
    "df3.size"
   ]
  },
  {
   "cell_type": "markdown",
   "id": "21b891c7-de73-4ee5-87f4-ab03d2200ca9",
   "metadata": {},
   "source": [
    "# Question No. - (6)"
   ]
  },
  {
   "cell_type": "markdown",
   "id": "6205e8e3-eb20-4fe8-b9c2-f0c97a85b182",
   "metadata": {},
   "source": [
    "pd.read_excel('name of excel sheet here'). \n",
    "This is used to read the excel sheet"
   ]
  },
  {
   "cell_type": "markdown",
   "id": "86eae0ba-e943-4f90-a10f-9c0c7e5427f3",
   "metadata": {},
   "source": [
    "# Question No. - (7)"
   ]
  },
  {
   "cell_type": "code",
   "execution_count": null,
   "id": "7de6f5d2-15c2-476f-8dc5-01d60e0a1deb",
   "metadata": {},
   "outputs": [],
   "source": [
    "df4= pd.DataFrame({\n",
    " 'email_id':['data_science@gmail.com', 'data_analytics@gmail.com','web_devlopment@gmail.com',\n",
    "             'app_devlopment@gmail.com','block_chain@gmail.com','cyber_security@gmail.com']\n",
    "})"
   ]
  },
  {
   "cell_type": "code",
   "execution_count": null,
   "id": "f8b79bce-8d38-465c-b2ba-a70e0a8ea937",
   "metadata": {},
   "outputs": [],
   "source": [
    "df4"
   ]
  },
  {
   "cell_type": "code",
   "execution_count": null,
   "id": "4e904c9a-456f-434e-b6a3-5173c040fcf4",
   "metadata": {},
   "outputs": [],
   "source": [
    "def find_username(s):\n",
    "    i= 0 \n",
    "    for i in range(len(s)):\n",
    "        if(s[i] == '@'):\n",
    "            break\n",
    "        i=i+1\n",
    "        \n",
    "    return s[0:i]"
   ]
  },
  {
   "cell_type": "code",
   "execution_count": null,
   "id": "9b445aad-b771-47c3-bc82-70832b9aa652",
   "metadata": {},
   "outputs": [],
   "source": [
    "df4['username'] = df4['email_id'].apply(find_username)"
   ]
  },
  {
   "cell_type": "markdown",
   "id": "19cf3d69-c4e0-4cd7-bab1-cde98da1d244",
   "metadata": {},
   "source": [
    "New Column with username is created"
   ]
  },
  {
   "cell_type": "code",
   "execution_count": null,
   "id": "be04cbea-c943-46ed-8acf-b7621931e09d",
   "metadata": {},
   "outputs": [],
   "source": [
    "df4"
   ]
  },
  {
   "cell_type": "markdown",
   "id": "45dc37da-379d-4d0b-841c-393ae5ba2a92",
   "metadata": {},
   "source": [
    "# Question No- (8)"
   ]
  },
  {
   "cell_type": "code",
   "execution_count": null,
   "id": "97a3c3c5-74be-482c-a373-efcb112aa665",
   "metadata": {},
   "outputs": [],
   "source": [
    "df5 = pd.DataFrame({\n",
    "    'A':[3,8,6,2,9],\n",
    "    'B':[5,2,9,3,1],\n",
    "    'C':[1,7,4,5,2]\n",
    "})"
   ]
  },
  {
   "cell_type": "code",
   "execution_count": null,
   "id": "d234082d-1278-4956-9300-cfe8b5dcd9d3",
   "metadata": {},
   "outputs": [],
   "source": [
    "df5"
   ]
  },
  {
   "cell_type": "markdown",
   "id": "0a6ad464-eeb3-4066-b97f-9c47a2fb14c3",
   "metadata": {},
   "source": [
    "Here, the values in 'A' column are (>5)and values in column 'B' are (<5)"
   ]
  },
  {
   "cell_type": "code",
   "execution_count": null,
   "id": "c5737d57-4fca-43e3-8ac9-d4f1c97b3c56",
   "metadata": {},
   "outputs": [],
   "source": [
    "new_dataframe = df5[(df5['A']>5) & (df5['B']<10)]"
   ]
  },
  {
   "cell_type": "code",
   "execution_count": null,
   "id": "b6364042-b2dd-4c2a-9ec9-eeab92f24146",
   "metadata": {},
   "outputs": [],
   "source": [
    "new_dataframe"
   ]
  },
  {
   "cell_type": "code",
   "execution_count": null,
   "id": "0b3c5974-5dc8-4af1-b2c6-380ef673db14",
   "metadata": {},
   "outputs": [],
   "source": []
  },
  {
   "cell_type": "code",
   "execution_count": null,
   "id": "d8dbaf8c-4643-4add-9b12-458f9c93fa9c",
   "metadata": {},
   "outputs": [],
   "source": []
  },
  {
   "cell_type": "code",
   "execution_count": null,
   "id": "3697dcb0-3168-4799-9cc6-c3511745e6d0",
   "metadata": {},
   "outputs": [],
   "source": []
  },
  {
   "cell_type": "code",
   "execution_count": null,
   "id": "de33e2e8-ea42-45ee-ac00-760df22b8916",
   "metadata": {},
   "outputs": [],
   "source": []
  },
  {
   "cell_type": "code",
   "execution_count": null,
   "id": "cd26b2de-1147-4fcf-a367-265f9e8837cc",
   "metadata": {},
   "outputs": [],
   "source": []
  },
  {
   "cell_type": "code",
   "execution_count": null,
   "id": "239a08ae-0259-4835-83ed-38c25ed129a4",
   "metadata": {},
   "outputs": [],
   "source": []
  },
  {
   "cell_type": "code",
   "execution_count": null,
   "id": "19e4a095-1647-4bf4-8ced-f8e5c6f6bd47",
   "metadata": {},
   "outputs": [],
   "source": []
  },
  {
   "cell_type": "code",
   "execution_count": null,
   "id": "51465d8b-38c6-481c-aa6c-eb5fdd8f4b61",
   "metadata": {},
   "outputs": [],
   "source": []
  }
 ],
 "metadata": {
  "kernelspec": {
   "display_name": "Python 3 (ipykernel)",
   "language": "python",
   "name": "python3"
  },
  "language_info": {
   "codemirror_mode": {
    "name": "ipython",
    "version": 3
   },
   "file_extension": ".py",
   "mimetype": "text/x-python",
   "name": "python",
   "nbconvert_exporter": "python",
   "pygments_lexer": "ipython3",
   "version": "3.10.8"
  }
 },
 "nbformat": 4,
 "nbformat_minor": 5
}
