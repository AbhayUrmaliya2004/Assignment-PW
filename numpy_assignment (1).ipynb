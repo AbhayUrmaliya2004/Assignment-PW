{
 "cells": [
  {
   "cell_type": "code",
   "execution_count": 1,
   "id": "57bd068c-1952-41a9-a430-a097158f3f72",
   "metadata": {},
   "outputs": [],
   "source": [
    "import numpy as np"
   ]
  },
  {
   "cell_type": "markdown",
   "id": "f23db96e-6379-4dd1-ae1f-b126d7200cbb",
   "metadata": {},
   "source": [
    "# Question No. - (1)"
   ]
  },
  {
   "cell_type": "code",
   "execution_count": 2,
   "id": "d4fe703a-329a-4a58-9f8a-d2f381d4f458",
   "metadata": {},
   "outputs": [],
   "source": [
    "list = [1,2,3,4,5]"
   ]
  },
  {
   "cell_type": "code",
   "execution_count": 3,
   "id": "87d1271c-cf6c-4691-ae67-f66a21be9c49",
   "metadata": {},
   "outputs": [],
   "source": [
    "arr = np.array(list)"
   ]
  },
  {
   "cell_type": "code",
   "execution_count": 4,
   "id": "26f98368-ac89-4f11-bb03-b568696cf265",
   "metadata": {},
   "outputs": [
    {
     "data": {
      "text/plain": [
       "numpy.int64"
      ]
     },
     "execution_count": 4,
     "metadata": {},
     "output_type": "execute_result"
    }
   ],
   "source": [
    "type(arr[0])"
   ]
  },
  {
   "cell_type": "code",
   "execution_count": 5,
   "id": "08ee68c5-f8f3-4bb2-a411-d521fad616a0",
   "metadata": {},
   "outputs": [
    {
     "data": {
      "text/plain": [
       "int"
      ]
     },
     "execution_count": 5,
     "metadata": {},
     "output_type": "execute_result"
    }
   ],
   "source": [
    "type(list[0])"
   ]
  },
  {
   "cell_type": "markdown",
   "id": "8486da81-7433-4d57-ba44-4cfa515c76c0",
   "metadata": {},
   "source": [
    "# Question No - (2)"
   ]
  },
  {
   "cell_type": "markdown",
   "id": "5a5d78fa-5238-400e-adf7-ba3aa82daac6",
   "metadata": {},
   "source": [
    "Write a code to print the data type of each and every element of both the variables list_ and\n",
    "arra_list."
   ]
  },
  {
   "cell_type": "code",
   "execution_count": 6,
   "id": "35f894b9-c347-4e52-9780-ca638dd6f95c",
   "metadata": {},
   "outputs": [
    {
     "name": "stdout",
     "output_type": "stream",
     "text": [
      "<class 'int'>\n",
      "<class 'int'>\n",
      "<class 'int'>\n",
      "<class 'int'>\n",
      "<class 'int'>\n"
     ]
    }
   ],
   "source": [
    "for i in range(len(list)):\n",
    "    print(type(list[i]))"
   ]
  },
  {
   "cell_type": "code",
   "execution_count": 7,
   "id": "01505cc9-f6cd-4194-b98e-f6f1f0afa81f",
   "metadata": {},
   "outputs": [
    {
     "name": "stdout",
     "output_type": "stream",
     "text": [
      "<class 'numpy.int64'>\n",
      "<class 'numpy.int64'>\n",
      "<class 'numpy.int64'>\n",
      "<class 'numpy.int64'>\n",
      "<class 'numpy.int64'>\n"
     ]
    }
   ],
   "source": [
    "for i in range(len(arr)):\n",
    "    print(type(arr[i]))"
   ]
  },
  {
   "cell_type": "markdown",
   "id": "c45a45bc-db2d-4821-a3ab-4a8fc30ecf73",
   "metadata": {},
   "source": [
    "# Question No. - (3)"
   ]
  },
  {
   "cell_type": "markdown",
   "id": "e8fdbeaf-8362-4656-ab45-5c270ea31353",
   "metadata": {},
   "source": [
    "Will there be any difference in the data type of the elements present in both the variables, list_ and\n",
    "arra_list? If so then print the data types of each and every element present in both the variables, list_\n",
    "and arra_list."
   ]
  },
  {
   "cell_type": "code",
   "execution_count": 8,
   "id": "f48fc4da-c667-4cf2-b817-94ef5596c05d",
   "metadata": {},
   "outputs": [],
   "source": [
    "list_ = ['1', '2', '3', '4', '5']"
   ]
  },
  {
   "cell_type": "code",
   "execution_count": 9,
   "id": "41606f98-c8dd-4ac3-aab0-a2ef11d5a998",
   "metadata": {},
   "outputs": [],
   "source": [
    "arr_list = np.array(object = list_ , dtype = int )"
   ]
  },
  {
   "cell_type": "code",
   "execution_count": 10,
   "id": "a7ed71f6-3efa-4189-bb72-3a254d6fb67a",
   "metadata": {},
   "outputs": [
    {
     "data": {
      "text/plain": [
       "(str, numpy.int64)"
      ]
     },
     "execution_count": 10,
     "metadata": {},
     "output_type": "execute_result"
    }
   ],
   "source": [
    "type(list_[0]), type(arr_list[0])"
   ]
  },
  {
   "cell_type": "markdown",
   "id": "3385f1f1-cbc4-4fee-afdf-48ab292f410a",
   "metadata": {},
   "source": [
    "# Question No. - (4)"
   ]
  },
  {
   "cell_type": "code",
   "execution_count": 11,
   "id": "41abcdda-684c-4181-aff5-2ae1a7eb1e73",
   "metadata": {},
   "outputs": [],
   "source": [
    "num_list = [ [ 1 , 2 , 3 ] , [ 4 , 5 , 6 ] ]\n",
    "num_array = np.array(object = num_list)"
   ]
  },
  {
   "cell_type": "markdown",
   "id": "02bb4177-6184-477e-ba79-164d35f32b02",
   "metadata": {},
   "source": [
    "code for shape "
   ]
  },
  {
   "cell_type": "code",
   "execution_count": 12,
   "id": "aa6058a9-4239-4bb2-812c-82e9437c6a92",
   "metadata": {},
   "outputs": [],
   "source": [
    "row = 0\n",
    "col = 0\n",
    "for i in range(len(num_array)):\n",
    "    row += 1 ;\n",
    "    col = len(num_array[i])"
   ]
  },
  {
   "cell_type": "code",
   "execution_count": 13,
   "id": "edc9ec4a-4391-4476-a8db-d6a2e8033e55",
   "metadata": {},
   "outputs": [
    {
     "data": {
      "text/plain": [
       "(2, 3)"
      ]
     },
     "execution_count": 13,
     "metadata": {},
     "output_type": "execute_result"
    }
   ],
   "source": [
    "row, col "
   ]
  },
  {
   "cell_type": "markdown",
   "id": "cfce9682-ee45-425b-81b1-77dfd0eb76f7",
   "metadata": {},
   "source": [
    "code for size "
   ]
  },
  {
   "cell_type": "code",
   "execution_count": 14,
   "id": "8d79753f-5e1d-4077-a25f-8e57b7bbca76",
   "metadata": {},
   "outputs": [],
   "source": [
    "def find_size(num_array):\n",
    "    row = 0\n",
    "    col = 0\n",
    "    for i in range(len(num_array)):\n",
    "        row += 1 ;\n",
    "        col = len(num_array[i])\n",
    "    return \"the size of num_array : \"+str(num_array)+\" is \"+str(row*col)"
   ]
  },
  {
   "cell_type": "code",
   "execution_count": 15,
   "id": "afacfa6b-f639-4dc6-8d27-e86ee308f2ea",
   "metadata": {},
   "outputs": [
    {
     "data": {
      "text/plain": [
       "'the size of num_array : [[1 2 3]\\n [4 5 6]] is 6'"
      ]
     },
     "execution_count": 15,
     "metadata": {},
     "output_type": "execute_result"
    }
   ],
   "source": [
    "find_size(num_array)"
   ]
  },
  {
   "cell_type": "markdown",
   "id": "1a609332-d345-4266-900f-ddb58ae25236",
   "metadata": {},
   "source": [
    "# Question No. - (5)\n"
   ]
  },
  {
   "cell_type": "markdown",
   "id": "d84644e9-80b0-4a8e-ba2d-bf163ec7bd14",
   "metadata": {},
   "source": [
    "Write a code to create numpy array of 3*3 matrix containing zeros only, using a numpy array\n",
    "creation function."
   ]
  },
  {
   "cell_type": "code",
   "execution_count": 16,
   "id": "e48c8234-8e05-40cd-bcf0-1247f878c967",
   "metadata": {},
   "outputs": [],
   "source": [
    "zeros_matrix = np.zeros((3, 3))"
   ]
  },
  {
   "cell_type": "code",
   "execution_count": 17,
   "id": "ded8cd16-2871-4502-a48f-940c836b81e2",
   "metadata": {},
   "outputs": [
    {
     "data": {
      "text/plain": [
       "array([[0., 0., 0.],\n",
       "       [0., 0., 0.],\n",
       "       [0., 0., 0.]])"
      ]
     },
     "execution_count": 17,
     "metadata": {},
     "output_type": "execute_result"
    }
   ],
   "source": [
    "zeros_matrix"
   ]
  },
  {
   "cell_type": "markdown",
   "id": "c85b7ab7-6bac-4432-85e0-94b68ab4b41b",
   "metadata": {},
   "source": [
    "# Question No. - (6)"
   ]
  },
  {
   "cell_type": "markdown",
   "id": "4f76015a-7c7a-4fcf-8fbf-191cd099dcce",
   "metadata": {},
   "source": [
    "Create an identity matrix of shape (5,5) using numpy functions"
   ]
  },
  {
   "cell_type": "code",
   "execution_count": 18,
   "id": "9e819021-9035-4997-a8a3-5fcad92a35f0",
   "metadata": {},
   "outputs": [],
   "source": [
    "identity_matrix = np.eye(5)"
   ]
  },
  {
   "cell_type": "code",
   "execution_count": 19,
   "id": "f56c9a6f-0d36-494f-a2ad-c1464936b003",
   "metadata": {},
   "outputs": [
    {
     "data": {
      "text/plain": [
       "array([[1., 0., 0., 0., 0.],\n",
       "       [0., 1., 0., 0., 0.],\n",
       "       [0., 0., 1., 0., 0.],\n",
       "       [0., 0., 0., 1., 0.],\n",
       "       [0., 0., 0., 0., 1.]])"
      ]
     },
     "execution_count": 19,
     "metadata": {},
     "output_type": "execute_result"
    }
   ],
   "source": [
    "identity_matrix"
   ]
  },
  {
   "cell_type": "code",
   "execution_count": null,
   "id": "6f17238f-7789-4730-8db4-9b11a8da0c3d",
   "metadata": {},
   "outputs": [],
   "source": []
  },
  {
   "cell_type": "code",
   "execution_count": null,
   "id": "b146180a-49c0-454b-af74-ff1b125dc06a",
   "metadata": {},
   "outputs": [],
   "source": []
  }
 ],
 "metadata": {
  "kernelspec": {
   "display_name": "Python 3 (ipykernel)",
   "language": "python",
   "name": "python3"
  },
  "language_info": {
   "codemirror_mode": {
    "name": "ipython",
    "version": 3
   },
   "file_extension": ".py",
   "mimetype": "text/x-python",
   "name": "python",
   "nbconvert_exporter": "python",
   "pygments_lexer": "ipython3",
   "version": "3.10.8"
  }
 },
 "nbformat": 4,
 "nbformat_minor": 5
}
